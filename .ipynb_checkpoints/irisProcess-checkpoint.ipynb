{
 "cells": [
  {
   "cell_type": "markdown",
   "id": "99b48967-ce81-4821-a202-98089f50de24",
   "metadata": {},
   "source": [
    "!pip3 uninstall -y torch torchvision"
   ]
  },
  {
   "cell_type": "markdown",
   "id": "12e4e6de-c495-4463-9386-d2c4bd6f4a25",
   "metadata": {},
   "source": [
    "!pip3 install torch torchvision"
   ]
  },
  {
   "cell_type": "code",
   "execution_count": 3,
   "id": "901fd16c-0333-47eb-8eef-8f56694e578f",
   "metadata": {},
   "outputs": [],
   "source": [
    "import torch\n",
    "# import the data\n",
    "import pandas as pd\n",
    "import math\n",
    "from sklearn.model_selection import train_test_split\n",
    "from sklearn.metrics import confusion_matrix\n",
    "from imblearn.over_sampling import RandomOverSampler"
   ]
  },
  {
   "cell_type": "code",
   "execution_count": 4,
   "id": "d9bf1ef0-b530-48fc-9108-3e897cc9dffd",
   "metadata": {},
   "outputs": [],
   "source": [
    "import os\n",
    "os.environ[\"KERAS_BACKEND\"] = \"torch\""
   ]
  },
  {
   "cell_type": "code",
   "execution_count": 5,
   "id": "0f18b031-c4ce-4afd-9f27-0174865692c4",
   "metadata": {},
   "outputs": [],
   "source": [
    "import numpy as np\n",
    "import keras\n",
    "from keras import layers"
   ]
  },
  {
   "cell_type": "code",
   "execution_count": 6,
   "id": "0714493d-b2f4-440c-a5d9-697714584012",
   "metadata": {},
   "outputs": [],
   "source": [
    "# function to evaluate model\n",
    "# returns (accuracy, tpr, tnr, f1)\n",
    "# takes as input real, predicted\n",
    "def genResults(real, predicted):\n",
    "    real=np.argmax(real, axis=1)\n",
    "    predicted=np.argmax(predicted, axis=1)\n",
    "\n",
    "    conf_matrix = confusion_matrix(y_true=real, y_pred=predicted)\n",
    "    tn, fp, fn, tp = conf_matrix.ravel()\n",
    "\n",
    "    f1 = (2*tp)/((2*tp)+fp+fn)\n",
    "\n",
    "    acc = (tp + tn) / (tp + tn + fn + fp)\n",
    "\n",
    "    tpr = tp / (tp + fp)\n",
    "    tnr = tn / (tn + fn)\n",
    "\n",
    "    print(\"true negative: \", tn)\n",
    "    print(\"false positive: \", fp)\n",
    "    print(\"false negative: \", fn)\n",
    "    print(\"true positive: \", tp)\n",
    "    \n",
    "    return (acc, tpr, tnr, f1)"
   ]
  },
  {
   "cell_type": "code",
   "execution_count": 7,
   "id": "00071ec5-5b9e-4ce8-b5f8-5a77770885d2",
   "metadata": {},
   "outputs": [],
   "source": [
    "# split it like above\n",
    "\n",
    "# do the shaping if necessary\n",
    "# change the type of the columns that are characters to one-hot-encodings or something like that\n",
    "\n",
    "# make a model with one layer\n",
    "# run the model and see what happens"
   ]
  },
  {
   "cell_type": "code",
   "execution_count": 8,
   "id": "cda5d390-61b8-47c5-a5a7-b0de2d332e5d",
   "metadata": {},
   "outputs": [
    {
     "name": "stdout",
     "output_type": "stream",
     "text": [
      "       Administrative  Administrative_Duration  Informational  \\\n",
      "0                   0                      0.0              0   \n",
      "1                   0                      0.0              0   \n",
      "2                   0                      0.0              0   \n",
      "3                   0                      0.0              0   \n",
      "4                   0                      0.0              0   \n",
      "...               ...                      ...            ...   \n",
      "12325               3                    145.0              0   \n",
      "12326               0                      0.0              0   \n",
      "12327               0                      0.0              0   \n",
      "12328               4                     75.0              0   \n",
      "12329               0                      0.0              0   \n",
      "\n",
      "       Informational_Duration  ProductRelated  ProductRelated_Duration  \\\n",
      "0                         0.0               1                 0.000000   \n",
      "1                         0.0               2                64.000000   \n",
      "2                         0.0               1                 0.000000   \n",
      "3                         0.0               2                 2.666667   \n",
      "4                         0.0              10               627.500000   \n",
      "...                       ...             ...                      ...   \n",
      "12325                     0.0              53              1783.791667   \n",
      "12326                     0.0               5               465.750000   \n",
      "12327                     0.0               6               184.250000   \n",
      "12328                     0.0              15               346.000000   \n",
      "12329                     0.0               3                21.250000   \n",
      "\n",
      "       BounceRates  ExitRates  PageValues  SpecialDay Month  OperatingSystems  \\\n",
      "0         0.200000   0.200000    0.000000         0.0   Feb                 1   \n",
      "1         0.000000   0.100000    0.000000         0.0   Feb                 2   \n",
      "2         0.200000   0.200000    0.000000         0.0   Feb                 4   \n",
      "3         0.050000   0.140000    0.000000         0.0   Feb                 3   \n",
      "4         0.020000   0.050000    0.000000         0.0   Feb                 3   \n",
      "...            ...        ...         ...         ...   ...               ...   \n",
      "12325     0.007143   0.029031   12.241717         0.0   Dec                 4   \n",
      "12326     0.000000   0.021333    0.000000         0.0   Nov                 3   \n",
      "12327     0.083333   0.086667    0.000000         0.0   Nov                 3   \n",
      "12328     0.000000   0.021053    0.000000         0.0   Nov                 2   \n",
      "12329     0.000000   0.066667    0.000000         0.0   Nov                 3   \n",
      "\n",
      "       Browser  Region  TrafficType        VisitorType  Weekend  Revenue  \n",
      "0            1       1            1  Returning_Visitor    False    False  \n",
      "1            2       1            2  Returning_Visitor    False    False  \n",
      "2            1       9            3  Returning_Visitor    False    False  \n",
      "3            2       2            4  Returning_Visitor    False    False  \n",
      "4            3       1            4  Returning_Visitor     True    False  \n",
      "...        ...     ...          ...                ...      ...      ...  \n",
      "12325        6       1            1  Returning_Visitor     True    False  \n",
      "12326        2       1            8  Returning_Visitor     True    False  \n",
      "12327        2       1           13  Returning_Visitor     True    False  \n",
      "12328        2       3           11  Returning_Visitor    False    False  \n",
      "12329        2       1            2        New_Visitor     True    False  \n",
      "\n",
      "[12330 rows x 18 columns]\n"
     ]
    }
   ],
   "source": [
    "df = pd.read_csv('data\\\\online_shoppers_intention.csv') #TODO - change to new dataset\n",
    "\n",
    "print(df)\n",
    "\n",
    "# hyperparameters\n",
    "batch_size = 128\n",
    "epochs = 30\n",
    "dropOut = 0.5"
   ]
  },
  {
   "cell_type": "code",
   "execution_count": 9,
   "id": "8fb8a5eb-77b3-49ba-a520-e6dc70f98c13",
   "metadata": {},
   "outputs": [],
   "source": [
    "df['total_duration'] = df['Administrative_Duration'] + df['Informational_Duration'] + df['ProductRelated_Duration']\n",
    "df['proportion_of_duration'] = df['ProductRelated_Duration'] / df['total_duration']"
   ]
  },
  {
   "cell_type": "code",
   "execution_count": 10,
   "id": "475e6145-a969-4079-95e5-920ce5da0b60",
   "metadata": {},
   "outputs": [
    {
     "data": {
      "text/html": [
       "<div>\n",
       "<style scoped>\n",
       "    .dataframe tbody tr th:only-of-type {\n",
       "        vertical-align: middle;\n",
       "    }\n",
       "\n",
       "    .dataframe tbody tr th {\n",
       "        vertical-align: top;\n",
       "    }\n",
       "\n",
       "    .dataframe thead th {\n",
       "        text-align: right;\n",
       "    }\n",
       "</style>\n",
       "<table border=\"1\" class=\"dataframe\">\n",
       "  <thead>\n",
       "    <tr style=\"text-align: right;\">\n",
       "      <th></th>\n",
       "      <th>BounceRates</th>\n",
       "      <th>ExitRates</th>\n",
       "      <th>PageValues</th>\n",
       "      <th>SpecialDay</th>\n",
       "      <th>Month</th>\n",
       "      <th>Region</th>\n",
       "      <th>TrafficType</th>\n",
       "      <th>VisitorType</th>\n",
       "      <th>Weekend</th>\n",
       "      <th>Revenue</th>\n",
       "      <th>total_duration</th>\n",
       "      <th>proportion_of_duration</th>\n",
       "    </tr>\n",
       "  </thead>\n",
       "  <tbody>\n",
       "    <tr>\n",
       "      <th>0</th>\n",
       "      <td>0.200000</td>\n",
       "      <td>0.200000</td>\n",
       "      <td>0.000000</td>\n",
       "      <td>0.0</td>\n",
       "      <td>Feb</td>\n",
       "      <td>1</td>\n",
       "      <td>1</td>\n",
       "      <td>Returning_Visitor</td>\n",
       "      <td>False</td>\n",
       "      <td>False</td>\n",
       "      <td>0.000000</td>\n",
       "      <td>NaN</td>\n",
       "    </tr>\n",
       "    <tr>\n",
       "      <th>1</th>\n",
       "      <td>0.000000</td>\n",
       "      <td>0.100000</td>\n",
       "      <td>0.000000</td>\n",
       "      <td>0.0</td>\n",
       "      <td>Feb</td>\n",
       "      <td>1</td>\n",
       "      <td>2</td>\n",
       "      <td>Returning_Visitor</td>\n",
       "      <td>False</td>\n",
       "      <td>False</td>\n",
       "      <td>64.000000</td>\n",
       "      <td>1.000000</td>\n",
       "    </tr>\n",
       "    <tr>\n",
       "      <th>2</th>\n",
       "      <td>0.200000</td>\n",
       "      <td>0.200000</td>\n",
       "      <td>0.000000</td>\n",
       "      <td>0.0</td>\n",
       "      <td>Feb</td>\n",
       "      <td>9</td>\n",
       "      <td>3</td>\n",
       "      <td>Returning_Visitor</td>\n",
       "      <td>False</td>\n",
       "      <td>False</td>\n",
       "      <td>0.000000</td>\n",
       "      <td>NaN</td>\n",
       "    </tr>\n",
       "    <tr>\n",
       "      <th>3</th>\n",
       "      <td>0.050000</td>\n",
       "      <td>0.140000</td>\n",
       "      <td>0.000000</td>\n",
       "      <td>0.0</td>\n",
       "      <td>Feb</td>\n",
       "      <td>2</td>\n",
       "      <td>4</td>\n",
       "      <td>Returning_Visitor</td>\n",
       "      <td>False</td>\n",
       "      <td>False</td>\n",
       "      <td>2.666667</td>\n",
       "      <td>1.000000</td>\n",
       "    </tr>\n",
       "    <tr>\n",
       "      <th>4</th>\n",
       "      <td>0.020000</td>\n",
       "      <td>0.050000</td>\n",
       "      <td>0.000000</td>\n",
       "      <td>0.0</td>\n",
       "      <td>Feb</td>\n",
       "      <td>1</td>\n",
       "      <td>4</td>\n",
       "      <td>Returning_Visitor</td>\n",
       "      <td>True</td>\n",
       "      <td>False</td>\n",
       "      <td>627.500000</td>\n",
       "      <td>1.000000</td>\n",
       "    </tr>\n",
       "    <tr>\n",
       "      <th>...</th>\n",
       "      <td>...</td>\n",
       "      <td>...</td>\n",
       "      <td>...</td>\n",
       "      <td>...</td>\n",
       "      <td>...</td>\n",
       "      <td>...</td>\n",
       "      <td>...</td>\n",
       "      <td>...</td>\n",
       "      <td>...</td>\n",
       "      <td>...</td>\n",
       "      <td>...</td>\n",
       "      <td>...</td>\n",
       "    </tr>\n",
       "    <tr>\n",
       "      <th>12325</th>\n",
       "      <td>0.007143</td>\n",
       "      <td>0.029031</td>\n",
       "      <td>12.241717</td>\n",
       "      <td>0.0</td>\n",
       "      <td>Dec</td>\n",
       "      <td>1</td>\n",
       "      <td>1</td>\n",
       "      <td>Returning_Visitor</td>\n",
       "      <td>True</td>\n",
       "      <td>False</td>\n",
       "      <td>1928.791667</td>\n",
       "      <td>0.924823</td>\n",
       "    </tr>\n",
       "    <tr>\n",
       "      <th>12326</th>\n",
       "      <td>0.000000</td>\n",
       "      <td>0.021333</td>\n",
       "      <td>0.000000</td>\n",
       "      <td>0.0</td>\n",
       "      <td>Nov</td>\n",
       "      <td>1</td>\n",
       "      <td>8</td>\n",
       "      <td>Returning_Visitor</td>\n",
       "      <td>True</td>\n",
       "      <td>False</td>\n",
       "      <td>465.750000</td>\n",
       "      <td>1.000000</td>\n",
       "    </tr>\n",
       "    <tr>\n",
       "      <th>12327</th>\n",
       "      <td>0.083333</td>\n",
       "      <td>0.086667</td>\n",
       "      <td>0.000000</td>\n",
       "      <td>0.0</td>\n",
       "      <td>Nov</td>\n",
       "      <td>1</td>\n",
       "      <td>13</td>\n",
       "      <td>Returning_Visitor</td>\n",
       "      <td>True</td>\n",
       "      <td>False</td>\n",
       "      <td>184.250000</td>\n",
       "      <td>1.000000</td>\n",
       "    </tr>\n",
       "    <tr>\n",
       "      <th>12328</th>\n",
       "      <td>0.000000</td>\n",
       "      <td>0.021053</td>\n",
       "      <td>0.000000</td>\n",
       "      <td>0.0</td>\n",
       "      <td>Nov</td>\n",
       "      <td>3</td>\n",
       "      <td>11</td>\n",
       "      <td>Returning_Visitor</td>\n",
       "      <td>False</td>\n",
       "      <td>False</td>\n",
       "      <td>421.000000</td>\n",
       "      <td>0.821853</td>\n",
       "    </tr>\n",
       "    <tr>\n",
       "      <th>12329</th>\n",
       "      <td>0.000000</td>\n",
       "      <td>0.066667</td>\n",
       "      <td>0.000000</td>\n",
       "      <td>0.0</td>\n",
       "      <td>Nov</td>\n",
       "      <td>1</td>\n",
       "      <td>2</td>\n",
       "      <td>New_Visitor</td>\n",
       "      <td>True</td>\n",
       "      <td>False</td>\n",
       "      <td>21.250000</td>\n",
       "      <td>1.000000</td>\n",
       "    </tr>\n",
       "  </tbody>\n",
       "</table>\n",
       "<p>12330 rows × 12 columns</p>\n",
       "</div>"
      ],
      "text/plain": [
       "       BounceRates  ExitRates  PageValues  SpecialDay Month  Region  \\\n",
       "0         0.200000   0.200000    0.000000         0.0   Feb       1   \n",
       "1         0.000000   0.100000    0.000000         0.0   Feb       1   \n",
       "2         0.200000   0.200000    0.000000         0.0   Feb       9   \n",
       "3         0.050000   0.140000    0.000000         0.0   Feb       2   \n",
       "4         0.020000   0.050000    0.000000         0.0   Feb       1   \n",
       "...            ...        ...         ...         ...   ...     ...   \n",
       "12325     0.007143   0.029031   12.241717         0.0   Dec       1   \n",
       "12326     0.000000   0.021333    0.000000         0.0   Nov       1   \n",
       "12327     0.083333   0.086667    0.000000         0.0   Nov       1   \n",
       "12328     0.000000   0.021053    0.000000         0.0   Nov       3   \n",
       "12329     0.000000   0.066667    0.000000         0.0   Nov       1   \n",
       "\n",
       "       TrafficType        VisitorType  Weekend  Revenue  total_duration  \\\n",
       "0                1  Returning_Visitor    False    False        0.000000   \n",
       "1                2  Returning_Visitor    False    False       64.000000   \n",
       "2                3  Returning_Visitor    False    False        0.000000   \n",
       "3                4  Returning_Visitor    False    False        2.666667   \n",
       "4                4  Returning_Visitor     True    False      627.500000   \n",
       "...            ...                ...      ...      ...             ...   \n",
       "12325            1  Returning_Visitor     True    False     1928.791667   \n",
       "12326            8  Returning_Visitor     True    False      465.750000   \n",
       "12327           13  Returning_Visitor     True    False      184.250000   \n",
       "12328           11  Returning_Visitor    False    False      421.000000   \n",
       "12329            2        New_Visitor     True    False       21.250000   \n",
       "\n",
       "       proportion_of_duration  \n",
       "0                         NaN  \n",
       "1                    1.000000  \n",
       "2                         NaN  \n",
       "3                    1.000000  \n",
       "4                    1.000000  \n",
       "...                       ...  \n",
       "12325                0.924823  \n",
       "12326                1.000000  \n",
       "12327                1.000000  \n",
       "12328                0.821853  \n",
       "12329                1.000000  \n",
       "\n",
       "[12330 rows x 12 columns]"
      ]
     },
     "execution_count": 10,
     "metadata": {},
     "output_type": "execute_result"
    }
   ],
   "source": [
    "df.drop(columns=['Informational_Duration', 'Administrative_Duration', \n",
    "                 'ProductRelated_Duration', 'Administrative', 'Informational', \n",
    "                 'ProductRelated', 'OperatingSystems', 'Browser'])\n",
    "\n",
    "#df = df.drop(columns=['Informational_Duration', 'Administrative_Duration', \n",
    "#                 'ProductRelated_Duration', 'Administrative', 'Informational', \n",
    "#                 'ProductRelated', 'OperatingSystems', 'Browser',\n",
    "#                 'BounceRates', 'ExitRates', 'SpecialDay', 'Month',\n",
    "#                 'Region', 'TrafficType', 'VisitorType', 'Weekend'])"
   ]
  },
  {
   "cell_type": "code",
   "execution_count": 11,
   "id": "7c73e688-cfc0-45f3-9ae3-f40ab3bc00c8",
   "metadata": {},
   "outputs": [],
   "source": [
    "# df['Month'].replace(['\n",
    "#print(df['Month'].unique())"
   ]
  },
  {
   "cell_type": "code",
   "execution_count": 12,
   "id": "8dc15350-a031-4390-8c2f-871571c602d4",
   "metadata": {},
   "outputs": [
    {
     "name": "stderr",
     "output_type": "stream",
     "text": [
      "C:\\Users\\tomli\\AppData\\Local\\Temp\\ipykernel_16360\\727251348.py:1: FutureWarning: A value is trying to be set on a copy of a DataFrame or Series through chained assignment using an inplace method.\n",
      "The behavior will change in pandas 3.0. This inplace method will never work because the intermediate object on which we are setting values always behaves as a copy.\n",
      "\n",
      "For example, when doing 'df[col].method(value, inplace=True)', try using 'df.method({col: value}, inplace=True)' or df[col] = df[col].method(value) instead, to perform the operation inplace on the original object.\n",
      "\n",
      "\n",
      "  df['Month'].replace(['Jan','Feb','Mar','Apr','May','June','Jul','Aug','Sep','Oct','Nov','Dec'],\n",
      "C:\\Users\\tomli\\AppData\\Local\\Temp\\ipykernel_16360\\727251348.py:1: FutureWarning: Downcasting behavior in `replace` is deprecated and will be removed in a future version. To retain the old behavior, explicitly call `result.infer_objects(copy=False)`. To opt-in to the future behavior, set `pd.set_option('future.no_silent_downcasting', True)`\n",
      "  df['Month'].replace(['Jan','Feb','Mar','Apr','May','June','Jul','Aug','Sep','Oct','Nov','Dec'],\n"
     ]
    }
   ],
   "source": [
    "df['Month'].replace(['Jan','Feb','Mar','Apr','May','June','Jul','Aug','Sep','Oct','Nov','Dec'],\n",
    "                    [1, 2, 3, 4, 5, 6, 7, 8, 9, 10, 11, 12], inplace=True)"
   ]
  },
  {
   "cell_type": "code",
   "execution_count": 13,
   "id": "a63a2948-ea6b-4532-87df-36c15617f1e1",
   "metadata": {},
   "outputs": [],
   "source": [
    "#print(df['Month'].unique())"
   ]
  },
  {
   "cell_type": "code",
   "execution_count": 14,
   "id": "7d84f3c6-c38c-45bd-a512-a9006e4dc1aa",
   "metadata": {},
   "outputs": [],
   "source": [
    "#print(df['VisitorType'].unique())"
   ]
  },
  {
   "cell_type": "code",
   "execution_count": 15,
   "id": "b3c8585a-40be-447d-98a5-07f53eee1310",
   "metadata": {},
   "outputs": [
    {
     "name": "stderr",
     "output_type": "stream",
     "text": [
      "C:\\Users\\tomli\\AppData\\Local\\Temp\\ipykernel_16360\\656729720.py:1: FutureWarning: A value is trying to be set on a copy of a DataFrame or Series through chained assignment using an inplace method.\n",
      "The behavior will change in pandas 3.0. This inplace method will never work because the intermediate object on which we are setting values always behaves as a copy.\n",
      "\n",
      "For example, when doing 'df[col].method(value, inplace=True)', try using 'df.method({col: value}, inplace=True)' or df[col] = df[col].method(value) instead, to perform the operation inplace on the original object.\n",
      "\n",
      "\n",
      "  df['VisitorType'].replace(['Returning_Visitor', 'New_Visitor', 'Other'], [0, 1, 2], inplace=True)\n",
      "C:\\Users\\tomli\\AppData\\Local\\Temp\\ipykernel_16360\\656729720.py:1: FutureWarning: Downcasting behavior in `replace` is deprecated and will be removed in a future version. To retain the old behavior, explicitly call `result.infer_objects(copy=False)`. To opt-in to the future behavior, set `pd.set_option('future.no_silent_downcasting', True)`\n",
      "  df['VisitorType'].replace(['Returning_Visitor', 'New_Visitor', 'Other'], [0, 1, 2], inplace=True)\n"
     ]
    }
   ],
   "source": [
    "df['VisitorType'].replace(['Returning_Visitor', 'New_Visitor', 'Other'], [0, 1, 2], inplace=True)"
   ]
  },
  {
   "cell_type": "code",
   "execution_count": 16,
   "id": "9f99e578-efdc-4450-af32-d93ccd5ddff9",
   "metadata": {},
   "outputs": [
    {
     "name": "stdout",
     "output_type": "stream",
     "text": [
      "       Administrative  Administrative_Duration  Informational  \\\n",
      "0                   0                      0.0              0   \n",
      "1                   0                      0.0              0   \n",
      "2                   0                      0.0              0   \n",
      "3                   0                      0.0              0   \n",
      "4                   0                      0.0              0   \n",
      "...               ...                      ...            ...   \n",
      "12325               3                    145.0              0   \n",
      "12326               0                      0.0              0   \n",
      "12327               0                      0.0              0   \n",
      "12328               4                     75.0              0   \n",
      "12329               0                      0.0              0   \n",
      "\n",
      "       Informational_Duration  ProductRelated  ProductRelated_Duration  \\\n",
      "0                         0.0               1                 0.000000   \n",
      "1                         0.0               2                64.000000   \n",
      "2                         0.0               1                 0.000000   \n",
      "3                         0.0               2                 2.666667   \n",
      "4                         0.0              10               627.500000   \n",
      "...                       ...             ...                      ...   \n",
      "12325                     0.0              53              1783.791667   \n",
      "12326                     0.0               5               465.750000   \n",
      "12327                     0.0               6               184.250000   \n",
      "12328                     0.0              15               346.000000   \n",
      "12329                     0.0               3                21.250000   \n",
      "\n",
      "       BounceRates  ExitRates  PageValues  SpecialDay  Month  \\\n",
      "0         0.200000   0.200000    0.000000         0.0      2   \n",
      "1         0.000000   0.100000    0.000000         0.0      2   \n",
      "2         0.200000   0.200000    0.000000         0.0      2   \n",
      "3         0.050000   0.140000    0.000000         0.0      2   \n",
      "4         0.020000   0.050000    0.000000         0.0      2   \n",
      "...            ...        ...         ...         ...    ...   \n",
      "12325     0.007143   0.029031   12.241717         0.0     12   \n",
      "12326     0.000000   0.021333    0.000000         0.0     11   \n",
      "12327     0.083333   0.086667    0.000000         0.0     11   \n",
      "12328     0.000000   0.021053    0.000000         0.0     11   \n",
      "12329     0.000000   0.066667    0.000000         0.0     11   \n",
      "\n",
      "       OperatingSystems  Browser  Region  TrafficType  VisitorType  Weekend  \\\n",
      "0                     1        1       1            1            0    False   \n",
      "1                     2        2       1            2            0    False   \n",
      "2                     4        1       9            3            0    False   \n",
      "3                     3        2       2            4            0    False   \n",
      "4                     3        3       1            4            0     True   \n",
      "...                 ...      ...     ...          ...          ...      ...   \n",
      "12325                 4        6       1            1            0     True   \n",
      "12326                 3        2       1            8            0     True   \n",
      "12327                 3        2       1           13            0     True   \n",
      "12328                 2        2       3           11            0    False   \n",
      "12329                 3        2       1            2            1     True   \n",
      "\n",
      "       Revenue  total_duration  proportion_of_duration  \n",
      "0        False        0.000000                     NaN  \n",
      "1        False       64.000000                1.000000  \n",
      "2        False        0.000000                     NaN  \n",
      "3        False        2.666667                1.000000  \n",
      "4        False      627.500000                1.000000  \n",
      "...        ...             ...                     ...  \n",
      "12325    False     1928.791667                0.924823  \n",
      "12326    False      465.750000                1.000000  \n",
      "12327    False      184.250000                1.000000  \n",
      "12328    False      421.000000                0.821853  \n",
      "12329    False       21.250000                1.000000  \n",
      "\n",
      "[12330 rows x 20 columns]\n"
     ]
    }
   ],
   "source": [
    "df_copy = df.copy(deep=True)\n",
    "print (df)"
   ]
  },
  {
   "cell_type": "code",
   "execution_count": 17,
   "id": "65fc4334-f429-4865-b0da-c7154ab0789c",
   "metadata": {},
   "outputs": [
    {
     "name": "stderr",
     "output_type": "stream",
     "text": [
      "C:\\Users\\tomli\\AppData\\Local\\Temp\\ipykernel_16360\\2402203070.py:1: FutureWarning: A value is trying to be set on a copy of a DataFrame or Series through chained assignment using an inplace method.\n",
      "The behavior will change in pandas 3.0. This inplace method will never work because the intermediate object on which we are setting values always behaves as a copy.\n",
      "\n",
      "For example, when doing 'df[col].method(value, inplace=True)', try using 'df.method({col: value}, inplace=True)' or df[col] = df[col].method(value) instead, to perform the operation inplace on the original object.\n",
      "\n",
      "\n",
      "  df_copy['Weekend'].replace([False, True], [0,1], inplace=True)\n",
      "C:\\Users\\tomli\\AppData\\Local\\Temp\\ipykernel_16360\\2402203070.py:1: FutureWarning: Downcasting behavior in `replace` is deprecated and will be removed in a future version. To retain the old behavior, explicitly call `result.infer_objects(copy=False)`. To opt-in to the future behavior, set `pd.set_option('future.no_silent_downcasting', True)`\n",
      "  df_copy['Weekend'].replace([False, True], [0,1], inplace=True)\n"
     ]
    }
   ],
   "source": [
    "df_copy['Weekend'].replace([False, True], [0,1], inplace=True)"
   ]
  },
  {
   "cell_type": "code",
   "execution_count": 18,
   "id": "e4ecf3f8-493c-4825-aa3f-5a2516d91870",
   "metadata": {},
   "outputs": [
    {
     "name": "stderr",
     "output_type": "stream",
     "text": [
      "C:\\Users\\tomli\\AppData\\Local\\Temp\\ipykernel_16360\\550847130.py:1: FutureWarning: A value is trying to be set on a copy of a DataFrame or Series through chained assignment using an inplace method.\n",
      "The behavior will change in pandas 3.0. This inplace method will never work because the intermediate object on which we are setting values always behaves as a copy.\n",
      "\n",
      "For example, when doing 'df[col].method(value, inplace=True)', try using 'df.method({col: value}, inplace=True)' or df[col] = df[col].method(value) instead, to perform the operation inplace on the original object.\n",
      "\n",
      "\n",
      "  df_copy['Revenue'].replace([False, True], [0,1], inplace=True)\n",
      "C:\\Users\\tomli\\AppData\\Local\\Temp\\ipykernel_16360\\550847130.py:1: FutureWarning: Downcasting behavior in `replace` is deprecated and will be removed in a future version. To retain the old behavior, explicitly call `result.infer_objects(copy=False)`. To opt-in to the future behavior, set `pd.set_option('future.no_silent_downcasting', True)`\n",
      "  df_copy['Revenue'].replace([False, True], [0,1], inplace=True)\n"
     ]
    }
   ],
   "source": [
    "df_copy['Revenue'].replace([False, True], [0,1], inplace=True)"
   ]
  },
  {
   "cell_type": "code",
   "execution_count": 19,
   "id": "a100ae9a-c624-4ef1-89ff-9f4649c12767",
   "metadata": {},
   "outputs": [],
   "source": [
    "df_copy = df_copy.drop(columns=['Informational_Duration', 'Administrative_Duration', \n",
    "                 'ProductRelated_Duration', 'Administrative', 'Informational', \n",
    "                 'ProductRelated', 'OperatingSystems', 'Browser'])"
   ]
  },
  {
   "cell_type": "code",
   "execution_count": 20,
   "id": "7ece5640-1827-4486-b56f-277009fcd0d6",
   "metadata": {},
   "outputs": [
    {
     "name": "stdout",
     "output_type": "stream",
     "text": [
      "       BounceRates  ExitRates  PageValues  SpecialDay  Month  Region  \\\n",
      "0         0.200000   0.200000    0.000000         0.0      2       1   \n",
      "1         0.000000   0.100000    0.000000         0.0      2       1   \n",
      "2         0.200000   0.200000    0.000000         0.0      2       9   \n",
      "3         0.050000   0.140000    0.000000         0.0      2       2   \n",
      "4         0.020000   0.050000    0.000000         0.0      2       1   \n",
      "...            ...        ...         ...         ...    ...     ...   \n",
      "12325     0.007143   0.029031   12.241717         0.0     12       1   \n",
      "12326     0.000000   0.021333    0.000000         0.0     11       1   \n",
      "12327     0.083333   0.086667    0.000000         0.0     11       1   \n",
      "12328     0.000000   0.021053    0.000000         0.0     11       3   \n",
      "12329     0.000000   0.066667    0.000000         0.0     11       1   \n",
      "\n",
      "       TrafficType  VisitorType  Weekend  Revenue  total_duration  \\\n",
      "0                1            0        0        0        0.000000   \n",
      "1                2            0        0        0       64.000000   \n",
      "2                3            0        0        0        0.000000   \n",
      "3                4            0        0        0        2.666667   \n",
      "4                4            0        1        0      627.500000   \n",
      "...            ...          ...      ...      ...             ...   \n",
      "12325            1            0        1        0     1928.791667   \n",
      "12326            8            0        1        0      465.750000   \n",
      "12327           13            0        1        0      184.250000   \n",
      "12328           11            0        0        0      421.000000   \n",
      "12329            2            1        1        0       21.250000   \n",
      "\n",
      "       proportion_of_duration  \n",
      "0                         NaN  \n",
      "1                    1.000000  \n",
      "2                         NaN  \n",
      "3                    1.000000  \n",
      "4                    1.000000  \n",
      "...                       ...  \n",
      "12325                0.924823  \n",
      "12326                1.000000  \n",
      "12327                1.000000  \n",
      "12328                0.821853  \n",
      "12329                1.000000  \n",
      "\n",
      "[12330 rows x 12 columns]\n"
     ]
    }
   ],
   "source": [
    "print(df_copy)"
   ]
  },
  {
   "cell_type": "code",
   "execution_count": 21,
   "id": "44a31116-c4d1-406c-a48d-ab3715c9dba5",
   "metadata": {},
   "outputs": [],
   "source": [
    "df_copy.fillna(0, inplace=True)"
   ]
  },
  {
   "cell_type": "code",
   "execution_count": 22,
   "id": "44e0b4d4-a9d7-4416-bf0a-1121ba70a3bd",
   "metadata": {},
   "outputs": [],
   "source": [
    "df_numpy = df_copy.to_numpy()"
   ]
  },
  {
   "cell_type": "code",
   "execution_count": 23,
   "id": "7a3ae3f1-53ef-407f-ac0b-1a46e6497022",
   "metadata": {},
   "outputs": [],
   "source": [
    "df_numpy.shape[0]\n",
    "testSample = np.random.choice(df_numpy.shape[0], math.floor(0.7 * df_numpy.shape[0]), replace=False)"
   ]
  },
  {
   "cell_type": "code",
   "execution_count": 24,
   "id": "c6e61b58-f52a-4615-af67-6ec0853f0276",
   "metadata": {},
   "outputs": [
    {
     "name": "stdout",
     "output_type": "stream",
     "text": [
      "[3318 1478 3425 ...  336 5075 2203]\n"
     ]
    }
   ],
   "source": [
    "print(testSample)"
   ]
  },
  {
   "cell_type": "code",
   "execution_count": 25,
   "id": "3a230144-3ced-4235-9371-227284ce7056",
   "metadata": {},
   "outputs": [
    {
     "name": "stdout",
     "output_type": "stream",
     "text": [
      "[[0.00000000e+00 5.00000000e-03 0.00000000e+00 ... 0.00000000e+00\n",
      "  2.27666667e+02 5.60761347e-01]\n",
      " [0.00000000e+00 2.22222220e-02 0.00000000e+00 ... 0.00000000e+00\n",
      "  6.85000000e+02 1.00000000e+00]\n",
      " [3.62500000e-02 4.73958330e-02 1.49925000e+01 ... 1.00000000e+00\n",
      "  4.22000000e+02 9.40758294e-01]\n",
      " ...\n",
      " [0.00000000e+00 2.85714290e-02 0.00000000e+00 ... 0.00000000e+00\n",
      "  1.26848571e+03 9.74547830e-01]\n",
      " [3.87409200e-03 2.33615820e-02 2.69379237e+01 ... 0.00000000e+00\n",
      "  1.95277460e+03 9.36500608e-01]\n",
      " [4.90956100e-03 2.08878900e-02 1.02122977e+01 ... 0.00000000e+00\n",
      "  4.35202576e+03 8.92004316e-01]]\n",
      "Train length: 8631\n",
      "Test lenght: 8631\n"
     ]
    }
   ],
   "source": [
    "print(df_numpy[testSample])\n",
    "\n",
    "train = df_numpy[testSample]\n",
    "test = df_numpy[~testSample]\n",
    "\n",
    "print(\"Train length: \" + str(train.shape[0]))\n",
    "print(\"Test lenght: \" + str(test.shape[0]))"
   ]
  },
  {
   "cell_type": "code",
   "execution_count": 26,
   "id": "300e2131-3337-4d37-a69f-8657d5f72261",
   "metadata": {},
   "outputs": [
    {
     "name": "stdout",
     "output_type": "stream",
     "text": [
      "0        0\n",
      "1        0\n",
      "2        0\n",
      "3        0\n",
      "4        0\n",
      "        ..\n",
      "12325    0\n",
      "12326    0\n",
      "12327    0\n",
      "12328    0\n",
      "12329    0\n",
      "Name: Revenue, Length: 12330, dtype: int64\n",
      "       BounceRates  ExitRates  PageValues  SpecialDay  Month  Region  \\\n",
      "0         0.200000   0.200000    0.000000         0.0      2       1   \n",
      "1         0.000000   0.100000    0.000000         0.0      2       1   \n",
      "2         0.200000   0.200000    0.000000         0.0      2       9   \n",
      "3         0.050000   0.140000    0.000000         0.0      2       2   \n",
      "4         0.020000   0.050000    0.000000         0.0      2       1   \n",
      "...            ...        ...         ...         ...    ...     ...   \n",
      "12325     0.007143   0.029031   12.241717         0.0     12       1   \n",
      "12326     0.000000   0.021333    0.000000         0.0     11       1   \n",
      "12327     0.083333   0.086667    0.000000         0.0     11       1   \n",
      "12328     0.000000   0.021053    0.000000         0.0     11       3   \n",
      "12329     0.000000   0.066667    0.000000         0.0     11       1   \n",
      "\n",
      "       TrafficType  VisitorType  Weekend  total_duration  \\\n",
      "0                1            0        0        0.000000   \n",
      "1                2            0        0       64.000000   \n",
      "2                3            0        0        0.000000   \n",
      "3                4            0        0        2.666667   \n",
      "4                4            0        1      627.500000   \n",
      "...            ...          ...      ...             ...   \n",
      "12325            1            0        1     1928.791667   \n",
      "12326            8            0        1      465.750000   \n",
      "12327           13            0        1      184.250000   \n",
      "12328           11            0        0      421.000000   \n",
      "12329            2            1        1       21.250000   \n",
      "\n",
      "       proportion_of_duration  \n",
      "0                    0.000000  \n",
      "1                    1.000000  \n",
      "2                    0.000000  \n",
      "3                    1.000000  \n",
      "4                    1.000000  \n",
      "...                       ...  \n",
      "12325                0.924823  \n",
      "12326                1.000000  \n",
      "12327                1.000000  \n",
      "12328                0.821853  \n",
      "12329                1.000000  \n",
      "\n",
      "[12330 rows x 11 columns]\n"
     ]
    }
   ],
   "source": [
    "df_copy_y = df_copy['Revenue']\n",
    "df_copy_x = df_copy.loc[:, df_copy.columns != 'Revenue']\n",
    "\n",
    "print(df_copy_y)\n",
    "print(df_copy_x)"
   ]
  },
  {
   "cell_type": "code",
   "execution_count": 27,
   "id": "37d6761f-73ed-4568-a364-074442240714",
   "metadata": {},
   "outputs": [],
   "source": [
    "df_copy_x_train, df_copy_x_test, df_copy_y_train, df_copy_y_test = train_test_split(\n",
    "    df_copy_x, df_copy_y, test_size=0.3, random_state=42)"
   ]
  },
  {
   "cell_type": "code",
   "execution_count": 28,
   "id": "d127f0f5-e20f-4c7b-82b7-bd31b294dfff",
   "metadata": {},
   "outputs": [
    {
     "name": "stdout",
     "output_type": "stream",
     "text": [
      "x_train shape: (8631, 11, 1)\n",
      "8631 train samples\n",
      "3699 test samples\n",
      "y_train shape:  (8631, 2)\n"
     ]
    }
   ],
   "source": [
    "numpy_x_train = df_copy_x_train.to_numpy()\n",
    "numpy_x_test = df_copy_x_test.to_numpy()\n",
    "numpy_y_train = df_copy_y_train.to_numpy()\n",
    "numpy_y_test = df_copy_y_test.to_numpy()\n",
    "\n",
    "num_classes = 2\n",
    "\n",
    "input_shape = (11, 1)\n",
    "\n",
    "# Make sure images have shape (28, 28, 1)\n",
    "numpy_x_train = np.expand_dims(numpy_x_train, -1)\n",
    "numpy_x_test = np.expand_dims(numpy_x_test, -1)\n",
    "print(\"x_train shape:\", numpy_x_train.shape)\n",
    "print(numpy_x_train.shape[0], \"train samples\")\n",
    "print(numpy_x_test.shape[0], \"test samples\")\n",
    "\n",
    "# convert class vectors to binary class matrices\n",
    "numpy_y_train = keras.utils.to_categorical(numpy_y_train, num_classes)\n",
    "numpy_y_test = keras.utils.to_categorical(numpy_y_test, num_classes)\n",
    "\n",
    "print(\"y_train shape: \", numpy_y_train.shape)"
   ]
  },
  {
   "cell_type": "code",
   "execution_count": 29,
   "id": "8161745c-f7fa-4fb3-8449-fc3655b1a379",
   "metadata": {},
   "outputs": [
    {
     "data": {
      "text/html": [
       "<pre style=\"white-space:pre;overflow-x:auto;line-height:normal;font-family:Menlo,'DejaVu Sans Mono',consolas,'Courier New',monospace\"><span style=\"font-weight: bold\">Model: \"sequential\"</span>\n",
       "</pre>\n"
      ],
      "text/plain": [
       "\u001b[1mModel: \"sequential\"\u001b[0m\n"
      ]
     },
     "metadata": {},
     "output_type": "display_data"
    },
    {
     "data": {
      "text/html": [
       "<pre style=\"white-space:pre;overflow-x:auto;line-height:normal;font-family:Menlo,'DejaVu Sans Mono',consolas,'Courier New',monospace\">┏━━━━━━━━━━━━━━━━━━━━━━━━━━━━━━━━━━━━━━┳━━━━━━━━━━━━━━━━━━━━━━━━━━━━━┳━━━━━━━━━━━━━━━━━┓\n",
       "┃<span style=\"font-weight: bold\"> Layer (type)                         </span>┃<span style=\"font-weight: bold\"> Output Shape                </span>┃<span style=\"font-weight: bold\">         Param # </span>┃\n",
       "┡━━━━━━━━━━━━━━━━━━━━━━━━━━━━━━━━━━━━━━╇━━━━━━━━━━━━━━━━━━━━━━━━━━━━━╇━━━━━━━━━━━━━━━━━┩\n",
       "│ dense (<span style=\"color: #0087ff; text-decoration-color: #0087ff\">Dense</span>)                        │ (<span style=\"color: #00d7ff; text-decoration-color: #00d7ff\">None</span>, <span style=\"color: #00af00; text-decoration-color: #00af00\">11</span>, <span style=\"color: #00af00; text-decoration-color: #00af00\">10</span>)              │              <span style=\"color: #00af00; text-decoration-color: #00af00\">20</span> │\n",
       "├──────────────────────────────────────┼─────────────────────────────┼─────────────────┤\n",
       "│ flatten (<span style=\"color: #0087ff; text-decoration-color: #0087ff\">Flatten</span>)                    │ (<span style=\"color: #00d7ff; text-decoration-color: #00d7ff\">None</span>, <span style=\"color: #00af00; text-decoration-color: #00af00\">110</span>)                 │               <span style=\"color: #00af00; text-decoration-color: #00af00\">0</span> │\n",
       "├──────────────────────────────────────┼─────────────────────────────┼─────────────────┤\n",
       "│ dropout (<span style=\"color: #0087ff; text-decoration-color: #0087ff\">Dropout</span>)                    │ (<span style=\"color: #00d7ff; text-decoration-color: #00d7ff\">None</span>, <span style=\"color: #00af00; text-decoration-color: #00af00\">110</span>)                 │               <span style=\"color: #00af00; text-decoration-color: #00af00\">0</span> │\n",
       "├──────────────────────────────────────┼─────────────────────────────┼─────────────────┤\n",
       "│ dense_1 (<span style=\"color: #0087ff; text-decoration-color: #0087ff\">Dense</span>)                      │ (<span style=\"color: #00d7ff; text-decoration-color: #00d7ff\">None</span>, <span style=\"color: #00af00; text-decoration-color: #00af00\">2</span>)                   │             <span style=\"color: #00af00; text-decoration-color: #00af00\">222</span> │\n",
       "└──────────────────────────────────────┴─────────────────────────────┴─────────────────┘\n",
       "</pre>\n"
      ],
      "text/plain": [
       "┏━━━━━━━━━━━━━━━━━━━━━━━━━━━━━━━━━━━━━━┳━━━━━━━━━━━━━━━━━━━━━━━━━━━━━┳━━━━━━━━━━━━━━━━━┓\n",
       "┃\u001b[1m \u001b[0m\u001b[1mLayer (type)                        \u001b[0m\u001b[1m \u001b[0m┃\u001b[1m \u001b[0m\u001b[1mOutput Shape               \u001b[0m\u001b[1m \u001b[0m┃\u001b[1m \u001b[0m\u001b[1m        Param #\u001b[0m\u001b[1m \u001b[0m┃\n",
       "┡━━━━━━━━━━━━━━━━━━━━━━━━━━━━━━━━━━━━━━╇━━━━━━━━━━━━━━━━━━━━━━━━━━━━━╇━━━━━━━━━━━━━━━━━┩\n",
       "│ dense (\u001b[38;5;33mDense\u001b[0m)                        │ (\u001b[38;5;45mNone\u001b[0m, \u001b[38;5;34m11\u001b[0m, \u001b[38;5;34m10\u001b[0m)              │              \u001b[38;5;34m20\u001b[0m │\n",
       "├──────────────────────────────────────┼─────────────────────────────┼─────────────────┤\n",
       "│ flatten (\u001b[38;5;33mFlatten\u001b[0m)                    │ (\u001b[38;5;45mNone\u001b[0m, \u001b[38;5;34m110\u001b[0m)                 │               \u001b[38;5;34m0\u001b[0m │\n",
       "├──────────────────────────────────────┼─────────────────────────────┼─────────────────┤\n",
       "│ dropout (\u001b[38;5;33mDropout\u001b[0m)                    │ (\u001b[38;5;45mNone\u001b[0m, \u001b[38;5;34m110\u001b[0m)                 │               \u001b[38;5;34m0\u001b[0m │\n",
       "├──────────────────────────────────────┼─────────────────────────────┼─────────────────┤\n",
       "│ dense_1 (\u001b[38;5;33mDense\u001b[0m)                      │ (\u001b[38;5;45mNone\u001b[0m, \u001b[38;5;34m2\u001b[0m)                   │             \u001b[38;5;34m222\u001b[0m │\n",
       "└──────────────────────────────────────┴─────────────────────────────┴─────────────────┘\n"
      ]
     },
     "metadata": {},
     "output_type": "display_data"
    },
    {
     "data": {
      "text/html": [
       "<pre style=\"white-space:pre;overflow-x:auto;line-height:normal;font-family:Menlo,'DejaVu Sans Mono',consolas,'Courier New',monospace\"><span style=\"font-weight: bold\"> Total params: </span><span style=\"color: #00af00; text-decoration-color: #00af00\">242</span> (968.00 B)\n",
       "</pre>\n"
      ],
      "text/plain": [
       "\u001b[1m Total params: \u001b[0m\u001b[38;5;34m242\u001b[0m (968.00 B)\n"
      ]
     },
     "metadata": {},
     "output_type": "display_data"
    },
    {
     "data": {
      "text/html": [
       "<pre style=\"white-space:pre;overflow-x:auto;line-height:normal;font-family:Menlo,'DejaVu Sans Mono',consolas,'Courier New',monospace\"><span style=\"font-weight: bold\"> Trainable params: </span><span style=\"color: #00af00; text-decoration-color: #00af00\">242</span> (968.00 B)\n",
       "</pre>\n"
      ],
      "text/plain": [
       "\u001b[1m Trainable params: \u001b[0m\u001b[38;5;34m242\u001b[0m (968.00 B)\n"
      ]
     },
     "metadata": {},
     "output_type": "display_data"
    },
    {
     "data": {
      "text/html": [
       "<pre style=\"white-space:pre;overflow-x:auto;line-height:normal;font-family:Menlo,'DejaVu Sans Mono',consolas,'Courier New',monospace\"><span style=\"font-weight: bold\"> Non-trainable params: </span><span style=\"color: #00af00; text-decoration-color: #00af00\">0</span> (0.00 B)\n",
       "</pre>\n"
      ],
      "text/plain": [
       "\u001b[1m Non-trainable params: \u001b[0m\u001b[38;5;34m0\u001b[0m (0.00 B)\n"
      ]
     },
     "metadata": {},
     "output_type": "display_data"
    }
   ],
   "source": [
    "model = keras.Sequential(\n",
    "    [\n",
    "        keras.Input(shape=input_shape),\n",
    "        layers.Dense(10, activation=\"relu\"),\n",
    "        layers.Flatten(),\n",
    "        layers.Dropout(dropOut),\n",
    "        layers.Dense(num_classes, activation=\"softmax\"),\n",
    "    ]\n",
    ")\n",
    "\n",
    "model.summary()"
   ]
  },
  {
   "cell_type": "code",
   "execution_count": 30,
   "id": "4777fe3d-ada5-404e-80c5-5d87cae8fb8f",
   "metadata": {},
   "outputs": [
    {
     "name": "stdout",
     "output_type": "stream",
     "text": [
      "Epoch 1/30\n",
      "\u001b[1m61/61\u001b[0m \u001b[32m━━━━━━━━━━━━━━━━━━━━\u001b[0m\u001b[37m\u001b[0m \u001b[1m0s\u001b[0m 3ms/step - accuracy: 0.3826 - loss: 0.6011 - val_accuracy: 0.5648 - val_loss: 0.3791\n",
      "Epoch 2/30\n",
      "\u001b[1m61/61\u001b[0m \u001b[32m━━━━━━━━━━━━━━━━━━━━\u001b[0m\u001b[37m\u001b[0m \u001b[1m0s\u001b[0m 3ms/step - accuracy: 0.6349 - loss: 0.3589 - val_accuracy: 0.8472 - val_loss: 0.1530\n",
      "Epoch 3/30\n",
      "\u001b[1m61/61\u001b[0m \u001b[32m━━━━━━━━━━━━━━━━━━━━\u001b[0m\u001b[37m\u001b[0m \u001b[1m0s\u001b[0m 3ms/step - accuracy: 0.7244 - loss: 0.2706 - val_accuracy: 0.8461 - val_loss: 0.1539\n",
      "Epoch 4/30\n",
      "\u001b[1m61/61\u001b[0m \u001b[32m━━━━━━━━━━━━━━━━━━━━\u001b[0m\u001b[37m\u001b[0m \u001b[1m0s\u001b[0m 3ms/step - accuracy: 0.8188 - loss: 0.1794 - val_accuracy: 0.8461 - val_loss: 0.1539\n",
      "Epoch 5/30\n",
      "\u001b[1m61/61\u001b[0m \u001b[32m━━━━━━━━━━━━━━━━━━━━\u001b[0m\u001b[37m\u001b[0m \u001b[1m0s\u001b[0m 3ms/step - accuracy: 0.8245 - loss: 0.1740 - val_accuracy: 0.8461 - val_loss: 0.1539\n",
      "Epoch 6/30\n",
      "\u001b[1m61/61\u001b[0m \u001b[32m━━━━━━━━━━━━━━━━━━━━\u001b[0m\u001b[37m\u001b[0m \u001b[1m0s\u001b[0m 3ms/step - accuracy: 0.8554 - loss: 0.1441 - val_accuracy: 0.8461 - val_loss: 0.1536\n",
      "Epoch 7/30\n",
      "\u001b[1m61/61\u001b[0m \u001b[32m━━━━━━━━━━━━━━━━━━━━\u001b[0m\u001b[37m\u001b[0m \u001b[1m0s\u001b[0m 3ms/step - accuracy: 0.8446 - loss: 0.1543 - val_accuracy: 0.8461 - val_loss: 0.1535\n",
      "Epoch 8/30\n",
      "\u001b[1m61/61\u001b[0m \u001b[32m━━━━━━━━━━━━━━━━━━━━\u001b[0m\u001b[37m\u001b[0m \u001b[1m0s\u001b[0m 3ms/step - accuracy: 0.8554 - loss: 0.1440 - val_accuracy: 0.8472 - val_loss: 0.1528\n",
      "Epoch 9/30\n",
      "\u001b[1m61/61\u001b[0m \u001b[32m━━━━━━━━━━━━━━━━━━━━\u001b[0m\u001b[37m\u001b[0m \u001b[1m0s\u001b[0m 3ms/step - accuracy: 0.8539 - loss: 0.1460 - val_accuracy: 0.8472 - val_loss: 0.1528\n",
      "Epoch 10/30\n",
      "\u001b[1m61/61\u001b[0m \u001b[32m━━━━━━━━━━━━━━━━━━━━\u001b[0m\u001b[37m\u001b[0m \u001b[1m0s\u001b[0m 3ms/step - accuracy: 0.8506 - loss: 0.1490 - val_accuracy: 0.8472 - val_loss: 0.1528\n",
      "Epoch 11/30\n",
      "\u001b[1m61/61\u001b[0m \u001b[32m━━━━━━━━━━━━━━━━━━━━\u001b[0m\u001b[37m\u001b[0m \u001b[1m0s\u001b[0m 4ms/step - accuracy: 0.8498 - loss: 0.1494 - val_accuracy: 0.8472 - val_loss: 0.1528\n",
      "Epoch 12/30\n",
      "\u001b[1m61/61\u001b[0m \u001b[32m━━━━━━━━━━━━━━━━━━━━\u001b[0m\u001b[37m\u001b[0m \u001b[1m0s\u001b[0m 4ms/step - accuracy: 0.8583 - loss: 0.1415 - val_accuracy: 0.8472 - val_loss: 0.1528\n",
      "Epoch 13/30\n",
      "\u001b[1m61/61\u001b[0m \u001b[32m━━━━━━━━━━━━━━━━━━━━\u001b[0m\u001b[37m\u001b[0m \u001b[1m0s\u001b[0m 5ms/step - accuracy: 0.8435 - loss: 0.1550 - val_accuracy: 0.8472 - val_loss: 0.1528\n",
      "Epoch 14/30\n",
      "\u001b[1m61/61\u001b[0m \u001b[32m━━━━━━━━━━━━━━━━━━━━\u001b[0m\u001b[37m\u001b[0m \u001b[1m0s\u001b[0m 3ms/step - accuracy: 0.8551 - loss: 0.1440 - val_accuracy: 0.8484 - val_loss: 0.1512\n",
      "Epoch 15/30\n",
      "\u001b[1m61/61\u001b[0m \u001b[32m━━━━━━━━━━━━━━━━━━━━\u001b[0m\u001b[37m\u001b[0m \u001b[1m0s\u001b[0m 5ms/step - accuracy: 0.8646 - loss: 0.1344 - val_accuracy: 0.8530 - val_loss: 0.1472\n",
      "Epoch 16/30\n",
      "\u001b[1m61/61\u001b[0m \u001b[32m━━━━━━━━━━━━━━━━━━━━\u001b[0m\u001b[37m\u001b[0m \u001b[1m0s\u001b[0m 4ms/step - accuracy: 0.8553 - loss: 0.1436 - val_accuracy: 0.8530 - val_loss: 0.1470\n",
      "Epoch 17/30\n",
      "\u001b[1m61/61\u001b[0m \u001b[32m━━━━━━━━━━━━━━━━━━━━\u001b[0m\u001b[37m\u001b[0m \u001b[1m0s\u001b[0m 4ms/step - accuracy: 0.8581 - loss: 0.1408 - val_accuracy: 0.8530 - val_loss: 0.1470\n",
      "Epoch 18/30\n",
      "\u001b[1m61/61\u001b[0m \u001b[32m━━━━━━━━━━━━━━━━━━━━\u001b[0m\u001b[37m\u001b[0m \u001b[1m0s\u001b[0m 4ms/step - accuracy: 0.8691 - loss: 0.1304 - val_accuracy: 0.8530 - val_loss: 0.1470\n",
      "Epoch 19/30\n",
      "\u001b[1m61/61\u001b[0m \u001b[32m━━━━━━━━━━━━━━━━━━━━\u001b[0m\u001b[37m\u001b[0m \u001b[1m0s\u001b[0m 3ms/step - accuracy: 0.8563 - loss: 0.1430 - val_accuracy: 0.8542 - val_loss: 0.1459\n",
      "Epoch 20/30\n",
      "\u001b[1m61/61\u001b[0m \u001b[32m━━━━━━━━━━━━━━━━━━━━\u001b[0m\u001b[37m\u001b[0m \u001b[1m0s\u001b[0m 4ms/step - accuracy: 0.8649 - loss: 0.1336 - val_accuracy: 0.8542 - val_loss: 0.1450\n",
      "Epoch 21/30\n",
      "\u001b[1m61/61\u001b[0m \u001b[32m━━━━━━━━━━━━━━━━━━━━\u001b[0m\u001b[37m\u001b[0m \u001b[1m0s\u001b[0m 4ms/step - accuracy: 0.8616 - loss: 0.1376 - val_accuracy: 0.8565 - val_loss: 0.1433\n",
      "Epoch 22/30\n",
      "\u001b[1m61/61\u001b[0m \u001b[32m━━━━━━━━━━━━━━━━━━━━\u001b[0m\u001b[37m\u001b[0m \u001b[1m0s\u001b[0m 4ms/step - accuracy: 0.8718 - loss: 0.1265 - val_accuracy: 0.8542 - val_loss: 0.1454\n",
      "Epoch 23/30\n",
      "\u001b[1m61/61\u001b[0m \u001b[32m━━━━━━━━━━━━━━━━━━━━\u001b[0m\u001b[37m\u001b[0m \u001b[1m0s\u001b[0m 3ms/step - accuracy: 0.8583 - loss: 0.1401 - val_accuracy: 0.8576 - val_loss: 0.1423\n",
      "Epoch 24/30\n",
      "\u001b[1m61/61\u001b[0m \u001b[32m━━━━━━━━━━━━━━━━━━━━\u001b[0m\u001b[37m\u001b[0m \u001b[1m0s\u001b[0m 4ms/step - accuracy: 0.8694 - loss: 0.1294 - val_accuracy: 0.8600 - val_loss: 0.1400\n",
      "Epoch 25/30\n",
      "\u001b[1m61/61\u001b[0m \u001b[32m━━━━━━━━━━━━━━━━━━━━\u001b[0m\u001b[37m\u001b[0m \u001b[1m0s\u001b[0m 4ms/step - accuracy: 0.8635 - loss: 0.1351 - val_accuracy: 0.8600 - val_loss: 0.1399\n",
      "Epoch 26/30\n",
      "\u001b[1m61/61\u001b[0m \u001b[32m━━━━━━━━━━━━━━━━━━━━\u001b[0m\u001b[37m\u001b[0m \u001b[1m0s\u001b[0m 3ms/step - accuracy: 0.8575 - loss: 0.1424 - val_accuracy: 0.8634 - val_loss: 0.1366\n",
      "Epoch 27/30\n",
      "\u001b[1m61/61\u001b[0m \u001b[32m━━━━━━━━━━━━━━━━━━━━\u001b[0m\u001b[37m\u001b[0m \u001b[1m0s\u001b[0m 3ms/step - accuracy: 0.8630 - loss: 0.1360 - val_accuracy: 0.8981 - val_loss: 0.1016\n",
      "Epoch 28/30\n",
      "\u001b[1m61/61\u001b[0m \u001b[32m━━━━━━━━━━━━━━━━━━━━\u001b[0m\u001b[37m\u001b[0m \u001b[1m0s\u001b[0m 4ms/step - accuracy: 0.8754 - loss: 0.1224 - val_accuracy: 0.8843 - val_loss: 0.1136\n",
      "Epoch 29/30\n",
      "\u001b[1m61/61\u001b[0m \u001b[32m━━━━━━━━━━━━━━━━━━━━\u001b[0m\u001b[37m\u001b[0m \u001b[1m0s\u001b[0m 3ms/step - accuracy: 0.8766 - loss: 0.1218 - val_accuracy: 0.8981 - val_loss: 0.1017\n",
      "Epoch 30/30\n",
      "\u001b[1m61/61\u001b[0m \u001b[32m━━━━━━━━━━━━━━━━━━━━\u001b[0m\u001b[37m\u001b[0m \u001b[1m0s\u001b[0m 3ms/step - accuracy: 0.8895 - loss: 0.1078 - val_accuracy: 0.8947 - val_loss: 0.1050\n"
     ]
    },
    {
     "data": {
      "text/plain": [
       "<keras.src.callbacks.history.History at 0x271e9f14560>"
      ]
     },
     "execution_count": 30,
     "metadata": {},
     "output_type": "execute_result"
    }
   ],
   "source": [
    "model.compile(loss=\"mean_squared_error\", optimizer=\"adam\", \n",
    "              metrics=[\"accuracy\"])\n",
    "\n",
    "model.fit(numpy_x_train, numpy_y_train, batch_size=batch_size, \n",
    "          epochs=epochs, validation_split=0.1)"
   ]
  },
  {
   "cell_type": "code",
   "execution_count": 31,
   "id": "35eece91-b6b7-4c95-a613-bd37fd0b5ffd",
   "metadata": {},
   "outputs": [
    {
     "name": "stdout",
     "output_type": "stream",
     "text": [
      "\u001b[1m116/116\u001b[0m \u001b[32m━━━━━━━━━━━━━━━━━━━━\u001b[0m\u001b[37m\u001b[0m \u001b[1m0s\u001b[0m 1ms/step\n"
     ]
    }
   ],
   "source": [
    "predicted = model.predict(numpy_x_test)"
   ]
  },
  {
   "cell_type": "code",
   "execution_count": 32,
   "id": "b2b2d3f6-6bd7-4266-83fe-5e3aa04c4647",
   "metadata": {},
   "outputs": [
    {
     "name": "stdout",
     "output_type": "stream",
     "text": [
      "numpy_y_test shape:  (3699, 2)\n",
      "[[1. 0.]\n",
      " [0. 1.]\n",
      " [1. 0.]\n",
      " ...\n",
      " [1. 0.]\n",
      " [0. 1.]\n",
      " [1. 0.]]\n",
      "predicted:  (3699, 2)\n",
      "[[1.00000000e+00 1.05502252e-15]\n",
      " [1.00000000e+00 5.26568572e-33]\n",
      " [1.00000000e+00 8.40779079e-45]\n",
      " ...\n",
      " [9.99881983e-01 1.18048585e-04]\n",
      " [3.11749894e-16 1.00000000e+00]\n",
      " [1.00000000e+00 3.08029519e-10]]\n"
     ]
    }
   ],
   "source": [
    "print(\"numpy_y_test shape: \", numpy_y_test.shape)\n",
    "print(numpy_y_test)\n",
    "print(\"predicted: \", predicted.shape)\n",
    "print(predicted)"
   ]
  },
  {
   "cell_type": "code",
   "execution_count": 33,
   "id": "d70f49b5-72e1-419c-a947-f1352b97cfca",
   "metadata": {},
   "outputs": [
    {
     "name": "stdout",
     "output_type": "stream",
     "text": [
      "true negative:  3067\n",
      "false positive:  57\n",
      "false negative:  368\n",
      "true positive:  207\n",
      "10 layers:\n",
      "Accuracy:  0.8851040821843742\n",
      "True-positive rate:  0.7840909090909091\n",
      "True-negative rate:  0.8928675400291121\n",
      "F1 Score:  0.4934445768772348\n"
     ]
    }
   ],
   "source": [
    "acc, tpr, tnr, f1 = genResults(numpy_y_test, predicted)\n",
    "\n",
    "print(\"10 layers:\")\n",
    "print(\"Accuracy: \", acc)\n",
    "print(\"True-positive rate: \", tpr)\n",
    "print(\"True-negative rate: \", tnr)\n",
    "print(\"F1 Score: \", f1)"
   ]
  },
  {
   "cell_type": "code",
   "execution_count": 34,
   "id": "d700b66f-655b-4b0f-9016-35123e245b79",
   "metadata": {},
   "outputs": [
    {
     "data": {
      "text/html": [
       "<pre style=\"white-space:pre;overflow-x:auto;line-height:normal;font-family:Menlo,'DejaVu Sans Mono',consolas,'Courier New',monospace\"><span style=\"font-weight: bold\">Model: \"sequential_1\"</span>\n",
       "</pre>\n"
      ],
      "text/plain": [
       "\u001b[1mModel: \"sequential_1\"\u001b[0m\n"
      ]
     },
     "metadata": {},
     "output_type": "display_data"
    },
    {
     "data": {
      "text/html": [
       "<pre style=\"white-space:pre;overflow-x:auto;line-height:normal;font-family:Menlo,'DejaVu Sans Mono',consolas,'Courier New',monospace\">┏━━━━━━━━━━━━━━━━━━━━━━━━━━━━━━━━━━━━━━┳━━━━━━━━━━━━━━━━━━━━━━━━━━━━━┳━━━━━━━━━━━━━━━━━┓\n",
       "┃<span style=\"font-weight: bold\"> Layer (type)                         </span>┃<span style=\"font-weight: bold\"> Output Shape                </span>┃<span style=\"font-weight: bold\">         Param # </span>┃\n",
       "┡━━━━━━━━━━━━━━━━━━━━━━━━━━━━━━━━━━━━━━╇━━━━━━━━━━━━━━━━━━━━━━━━━━━━━╇━━━━━━━━━━━━━━━━━┩\n",
       "│ dense_2 (<span style=\"color: #0087ff; text-decoration-color: #0087ff\">Dense</span>)                      │ (<span style=\"color: #00d7ff; text-decoration-color: #00d7ff\">None</span>, <span style=\"color: #00af00; text-decoration-color: #00af00\">11</span>, <span style=\"color: #00af00; text-decoration-color: #00af00\">20</span>)              │              <span style=\"color: #00af00; text-decoration-color: #00af00\">40</span> │\n",
       "├──────────────────────────────────────┼─────────────────────────────┼─────────────────┤\n",
       "│ flatten_1 (<span style=\"color: #0087ff; text-decoration-color: #0087ff\">Flatten</span>)                  │ (<span style=\"color: #00d7ff; text-decoration-color: #00d7ff\">None</span>, <span style=\"color: #00af00; text-decoration-color: #00af00\">220</span>)                 │               <span style=\"color: #00af00; text-decoration-color: #00af00\">0</span> │\n",
       "├──────────────────────────────────────┼─────────────────────────────┼─────────────────┤\n",
       "│ dropout_1 (<span style=\"color: #0087ff; text-decoration-color: #0087ff\">Dropout</span>)                  │ (<span style=\"color: #00d7ff; text-decoration-color: #00d7ff\">None</span>, <span style=\"color: #00af00; text-decoration-color: #00af00\">220</span>)                 │               <span style=\"color: #00af00; text-decoration-color: #00af00\">0</span> │\n",
       "├──────────────────────────────────────┼─────────────────────────────┼─────────────────┤\n",
       "│ dense_3 (<span style=\"color: #0087ff; text-decoration-color: #0087ff\">Dense</span>)                      │ (<span style=\"color: #00d7ff; text-decoration-color: #00d7ff\">None</span>, <span style=\"color: #00af00; text-decoration-color: #00af00\">2</span>)                   │             <span style=\"color: #00af00; text-decoration-color: #00af00\">442</span> │\n",
       "└──────────────────────────────────────┴─────────────────────────────┴─────────────────┘\n",
       "</pre>\n"
      ],
      "text/plain": [
       "┏━━━━━━━━━━━━━━━━━━━━━━━━━━━━━━━━━━━━━━┳━━━━━━━━━━━━━━━━━━━━━━━━━━━━━┳━━━━━━━━━━━━━━━━━┓\n",
       "┃\u001b[1m \u001b[0m\u001b[1mLayer (type)                        \u001b[0m\u001b[1m \u001b[0m┃\u001b[1m \u001b[0m\u001b[1mOutput Shape               \u001b[0m\u001b[1m \u001b[0m┃\u001b[1m \u001b[0m\u001b[1m        Param #\u001b[0m\u001b[1m \u001b[0m┃\n",
       "┡━━━━━━━━━━━━━━━━━━━━━━━━━━━━━━━━━━━━━━╇━━━━━━━━━━━━━━━━━━━━━━━━━━━━━╇━━━━━━━━━━━━━━━━━┩\n",
       "│ dense_2 (\u001b[38;5;33mDense\u001b[0m)                      │ (\u001b[38;5;45mNone\u001b[0m, \u001b[38;5;34m11\u001b[0m, \u001b[38;5;34m20\u001b[0m)              │              \u001b[38;5;34m40\u001b[0m │\n",
       "├──────────────────────────────────────┼─────────────────────────────┼─────────────────┤\n",
       "│ flatten_1 (\u001b[38;5;33mFlatten\u001b[0m)                  │ (\u001b[38;5;45mNone\u001b[0m, \u001b[38;5;34m220\u001b[0m)                 │               \u001b[38;5;34m0\u001b[0m │\n",
       "├──────────────────────────────────────┼─────────────────────────────┼─────────────────┤\n",
       "│ dropout_1 (\u001b[38;5;33mDropout\u001b[0m)                  │ (\u001b[38;5;45mNone\u001b[0m, \u001b[38;5;34m220\u001b[0m)                 │               \u001b[38;5;34m0\u001b[0m │\n",
       "├──────────────────────────────────────┼─────────────────────────────┼─────────────────┤\n",
       "│ dense_3 (\u001b[38;5;33mDense\u001b[0m)                      │ (\u001b[38;5;45mNone\u001b[0m, \u001b[38;5;34m2\u001b[0m)                   │             \u001b[38;5;34m442\u001b[0m │\n",
       "└──────────────────────────────────────┴─────────────────────────────┴─────────────────┘\n"
      ]
     },
     "metadata": {},
     "output_type": "display_data"
    },
    {
     "data": {
      "text/html": [
       "<pre style=\"white-space:pre;overflow-x:auto;line-height:normal;font-family:Menlo,'DejaVu Sans Mono',consolas,'Courier New',monospace\"><span style=\"font-weight: bold\"> Total params: </span><span style=\"color: #00af00; text-decoration-color: #00af00\">482</span> (1.88 KB)\n",
       "</pre>\n"
      ],
      "text/plain": [
       "\u001b[1m Total params: \u001b[0m\u001b[38;5;34m482\u001b[0m (1.88 KB)\n"
      ]
     },
     "metadata": {},
     "output_type": "display_data"
    },
    {
     "data": {
      "text/html": [
       "<pre style=\"white-space:pre;overflow-x:auto;line-height:normal;font-family:Menlo,'DejaVu Sans Mono',consolas,'Courier New',monospace\"><span style=\"font-weight: bold\"> Trainable params: </span><span style=\"color: #00af00; text-decoration-color: #00af00\">482</span> (1.88 KB)\n",
       "</pre>\n"
      ],
      "text/plain": [
       "\u001b[1m Trainable params: \u001b[0m\u001b[38;5;34m482\u001b[0m (1.88 KB)\n"
      ]
     },
     "metadata": {},
     "output_type": "display_data"
    },
    {
     "data": {
      "text/html": [
       "<pre style=\"white-space:pre;overflow-x:auto;line-height:normal;font-family:Menlo,'DejaVu Sans Mono',consolas,'Courier New',monospace\"><span style=\"font-weight: bold\"> Non-trainable params: </span><span style=\"color: #00af00; text-decoration-color: #00af00\">0</span> (0.00 B)\n",
       "</pre>\n"
      ],
      "text/plain": [
       "\u001b[1m Non-trainable params: \u001b[0m\u001b[38;5;34m0\u001b[0m (0.00 B)\n"
      ]
     },
     "metadata": {},
     "output_type": "display_data"
    }
   ],
   "source": [
    "model20 = keras.Sequential(\n",
    "    [\n",
    "        keras.Input(shape=input_shape),\n",
    "        layers.Dense(20, activation=\"relu\"),\n",
    "        layers.Flatten(),\n",
    "        layers.Dropout(dropOut),\n",
    "        layers.Dense(num_classes, activation=\"softmax\"),\n",
    "    ]\n",
    ")\n",
    "\n",
    "model20.summary()"
   ]
  },
  {
   "cell_type": "code",
   "execution_count": 35,
   "id": "cca41d27-2f21-4185-af55-b322f22aa718",
   "metadata": {},
   "outputs": [
    {
     "name": "stdout",
     "output_type": "stream",
     "text": [
      "Epoch 1/30\n",
      "\u001b[1m61/61\u001b[0m \u001b[32m━━━━━━━━━━━━━━━━━━━━\u001b[0m\u001b[37m\u001b[0m \u001b[1m0s\u001b[0m 4ms/step - accuracy: 0.1943 - loss: 0.7881 - val_accuracy: 0.2593 - val_loss: 0.7245\n",
      "Epoch 2/30\n",
      "\u001b[1m61/61\u001b[0m \u001b[32m━━━━━━━━━━━━━━━━━━━━\u001b[0m\u001b[37m\u001b[0m \u001b[1m0s\u001b[0m 3ms/step - accuracy: 0.6152 - loss: 0.3771 - val_accuracy: 0.8461 - val_loss: 0.1540\n",
      "Epoch 3/30\n",
      "\u001b[1m61/61\u001b[0m \u001b[32m━━━━━━━━━━━━━━━━━━━━\u001b[0m\u001b[37m\u001b[0m \u001b[1m0s\u001b[0m 3ms/step - accuracy: 0.8470 - loss: 0.1518 - val_accuracy: 0.8461 - val_loss: 0.1539\n",
      "Epoch 4/30\n",
      "\u001b[1m61/61\u001b[0m \u001b[32m━━━━━━━━━━━━━━━━━━━━\u001b[0m\u001b[37m\u001b[0m \u001b[1m0s\u001b[0m 4ms/step - accuracy: 0.8510 - loss: 0.1485 - val_accuracy: 0.8461 - val_loss: 0.1539\n",
      "Epoch 5/30\n",
      "\u001b[1m61/61\u001b[0m \u001b[32m━━━━━━━━━━━━━━━━━━━━\u001b[0m\u001b[37m\u001b[0m \u001b[1m0s\u001b[0m 3ms/step - accuracy: 0.8444 - loss: 0.1551 - val_accuracy: 0.8461 - val_loss: 0.1539\n",
      "Epoch 6/30\n",
      "\u001b[1m61/61\u001b[0m \u001b[32m━━━━━━━━━━━━━━━━━━━━\u001b[0m\u001b[37m\u001b[0m \u001b[1m0s\u001b[0m 3ms/step - accuracy: 0.8434 - loss: 0.1562 - val_accuracy: 0.8461 - val_loss: 0.1539\n",
      "Epoch 7/30\n",
      "\u001b[1m61/61\u001b[0m \u001b[32m━━━━━━━━━━━━━━━━━━━━\u001b[0m\u001b[37m\u001b[0m \u001b[1m0s\u001b[0m 3ms/step - accuracy: 0.8412 - loss: 0.1583 - val_accuracy: 0.8461 - val_loss: 0.1539\n",
      "Epoch 8/30\n",
      "\u001b[1m61/61\u001b[0m \u001b[32m━━━━━━━━━━━━━━━━━━━━\u001b[0m\u001b[37m\u001b[0m \u001b[1m0s\u001b[0m 4ms/step - accuracy: 0.8454 - loss: 0.1541 - val_accuracy: 0.8461 - val_loss: 0.1539\n",
      "Epoch 9/30\n",
      "\u001b[1m61/61\u001b[0m \u001b[32m━━━━━━━━━━━━━━━━━━━━\u001b[0m\u001b[37m\u001b[0m \u001b[1m0s\u001b[0m 3ms/step - accuracy: 0.8571 - loss: 0.1425 - val_accuracy: 0.8461 - val_loss: 0.1537\n",
      "Epoch 10/30\n",
      "\u001b[1m61/61\u001b[0m \u001b[32m━━━━━━━━━━━━━━━━━━━━\u001b[0m\u001b[37m\u001b[0m \u001b[1m0s\u001b[0m 3ms/step - accuracy: 0.8513 - loss: 0.1484 - val_accuracy: 0.8461 - val_loss: 0.1535\n",
      "Epoch 11/30\n",
      "\u001b[1m61/61\u001b[0m \u001b[32m━━━━━━━━━━━━━━━━━━━━\u001b[0m\u001b[37m\u001b[0m \u001b[1m0s\u001b[0m 3ms/step - accuracy: 0.8513 - loss: 0.1481 - val_accuracy: 0.8472 - val_loss: 0.1528\n",
      "Epoch 12/30\n",
      "\u001b[1m61/61\u001b[0m \u001b[32m━━━━━━━━━━━━━━━━━━━━\u001b[0m\u001b[37m\u001b[0m \u001b[1m0s\u001b[0m 4ms/step - accuracy: 0.8456 - loss: 0.1544 - val_accuracy: 0.8472 - val_loss: 0.1528\n",
      "Epoch 13/30\n",
      "\u001b[1m61/61\u001b[0m \u001b[32m━━━━━━━━━━━━━━━━━━━━\u001b[0m\u001b[37m\u001b[0m \u001b[1m0s\u001b[0m 4ms/step - accuracy: 0.8546 - loss: 0.1453 - val_accuracy: 0.8484 - val_loss: 0.1516\n",
      "Epoch 14/30\n",
      "\u001b[1m61/61\u001b[0m \u001b[32m━━━━━━━━━━━━━━━━━━━━\u001b[0m\u001b[37m\u001b[0m \u001b[1m0s\u001b[0m 4ms/step - accuracy: 0.8558 - loss: 0.1439 - val_accuracy: 0.8530 - val_loss: 0.1471\n",
      "Epoch 15/30\n",
      "\u001b[1m61/61\u001b[0m \u001b[32m━━━━━━━━━━━━━━━━━━━━\u001b[0m\u001b[37m\u001b[0m \u001b[1m0s\u001b[0m 4ms/step - accuracy: 0.8550 - loss: 0.1445 - val_accuracy: 0.8530 - val_loss: 0.1469\n",
      "Epoch 16/30\n",
      "\u001b[1m61/61\u001b[0m \u001b[32m━━━━━━━━━━━━━━━━━━━━\u001b[0m\u001b[37m\u001b[0m \u001b[1m0s\u001b[0m 3ms/step - accuracy: 0.8545 - loss: 0.1452 - val_accuracy: 0.8588 - val_loss: 0.1409\n",
      "Epoch 17/30\n",
      "\u001b[1m61/61\u001b[0m \u001b[32m━━━━━━━━━━━━━━━━━━━━\u001b[0m\u001b[37m\u001b[0m \u001b[1m0s\u001b[0m 3ms/step - accuracy: 0.8567 - loss: 0.1420 - val_accuracy: 0.8600 - val_loss: 0.1386\n",
      "Epoch 18/30\n",
      "\u001b[1m61/61\u001b[0m \u001b[32m━━━━━━━━━━━━━━━━━━━━\u001b[0m\u001b[37m\u001b[0m \u001b[1m0s\u001b[0m 3ms/step - accuracy: 0.8607 - loss: 0.1375 - val_accuracy: 0.8669 - val_loss: 0.1311\n",
      "Epoch 19/30\n",
      "\u001b[1m61/61\u001b[0m \u001b[32m━━━━━━━━━━━━━━━━━━━━\u001b[0m\u001b[37m\u001b[0m \u001b[1m0s\u001b[0m 3ms/step - accuracy: 0.8760 - loss: 0.1214 - val_accuracy: 0.8900 - val_loss: 0.1079\n",
      "Epoch 20/30\n",
      "\u001b[1m61/61\u001b[0m \u001b[32m━━━━━━━━━━━━━━━━━━━━\u001b[0m\u001b[37m\u001b[0m \u001b[1m0s\u001b[0m 3ms/step - accuracy: 0.8754 - loss: 0.1230 - val_accuracy: 0.8900 - val_loss: 0.1071\n",
      "Epoch 21/30\n",
      "\u001b[1m61/61\u001b[0m \u001b[32m━━━━━━━━━━━━━━━━━━━━\u001b[0m\u001b[37m\u001b[0m \u001b[1m0s\u001b[0m 4ms/step - accuracy: 0.8670 - loss: 0.1300 - val_accuracy: 0.8634 - val_loss: 0.1357\n",
      "Epoch 22/30\n",
      "\u001b[1m61/61\u001b[0m \u001b[32m━━━━━━━━━━━━━━━━━━━━\u001b[0m\u001b[37m\u001b[0m \u001b[1m0s\u001b[0m 4ms/step - accuracy: 0.8562 - loss: 0.1429 - val_accuracy: 0.8657 - val_loss: 0.1338\n",
      "Epoch 23/30\n",
      "\u001b[1m61/61\u001b[0m \u001b[32m━━━━━━━━━━━━━━━━━━━━\u001b[0m\u001b[37m\u001b[0m \u001b[1m0s\u001b[0m 3ms/step - accuracy: 0.8724 - loss: 0.1268 - val_accuracy: 0.8819 - val_loss: 0.1175\n",
      "Epoch 24/30\n",
      "\u001b[1m61/61\u001b[0m \u001b[32m━━━━━━━━━━━━━━━━━━━━\u001b[0m\u001b[37m\u001b[0m \u001b[1m0s\u001b[0m 3ms/step - accuracy: 0.8769 - loss: 0.1217 - val_accuracy: 0.8843 - val_loss: 0.1144\n",
      "Epoch 25/30\n",
      "\u001b[1m61/61\u001b[0m \u001b[32m━━━━━━━━━━━━━━━━━━━━\u001b[0m\u001b[37m\u001b[0m \u001b[1m0s\u001b[0m 4ms/step - accuracy: 0.8875 - loss: 0.1114 - val_accuracy: 0.8912 - val_loss: 0.1075\n",
      "Epoch 26/30\n",
      "\u001b[1m61/61\u001b[0m \u001b[32m━━━━━━━━━━━━━━━━━━━━\u001b[0m\u001b[37m\u001b[0m \u001b[1m0s\u001b[0m 5ms/step - accuracy: 0.8708 - loss: 0.1275 - val_accuracy: 0.8981 - val_loss: 0.1012\n",
      "Epoch 27/30\n",
      "\u001b[1m61/61\u001b[0m \u001b[32m━━━━━━━━━━━━━━━━━━━━\u001b[0m\u001b[37m\u001b[0m \u001b[1m0s\u001b[0m 3ms/step - accuracy: 0.8847 - loss: 0.1137 - val_accuracy: 0.8970 - val_loss: 0.1023\n",
      "Epoch 28/30\n",
      "\u001b[1m61/61\u001b[0m \u001b[32m━━━━━━━━━━━━━━━━━━━━\u001b[0m\u001b[37m\u001b[0m \u001b[1m0s\u001b[0m 3ms/step - accuracy: 0.8893 - loss: 0.1083 - val_accuracy: 0.8924 - val_loss: 0.1059\n",
      "Epoch 29/30\n",
      "\u001b[1m61/61\u001b[0m \u001b[32m━━━━━━━━━━━━━━━━━━━━\u001b[0m\u001b[37m\u001b[0m \u001b[1m0s\u001b[0m 3ms/step - accuracy: 0.8837 - loss: 0.1153 - val_accuracy: 0.8900 - val_loss: 0.1097\n",
      "Epoch 30/30\n",
      "\u001b[1m61/61\u001b[0m \u001b[32m━━━━━━━━━━━━━━━━━━━━\u001b[0m\u001b[37m\u001b[0m \u001b[1m0s\u001b[0m 4ms/step - accuracy: 0.8769 - loss: 0.1221 - val_accuracy: 0.8970 - val_loss: 0.1020\n"
     ]
    },
    {
     "data": {
      "text/plain": [
       "<keras.src.callbacks.history.History at 0x271ea0525a0>"
      ]
     },
     "execution_count": 35,
     "metadata": {},
     "output_type": "execute_result"
    }
   ],
   "source": [
    "model20.compile(loss=\"mean_squared_error\", optimizer=\"adam\", \n",
    "              metrics=[\"accuracy\"])\n",
    "\n",
    "model20.fit(numpy_x_train, numpy_y_train, batch_size=batch_size, \n",
    "          epochs=epochs, validation_split=0.1)"
   ]
  },
  {
   "cell_type": "code",
   "execution_count": 36,
   "id": "ced060f9-f2dd-4a67-aafa-c4204db49b22",
   "metadata": {},
   "outputs": [
    {
     "name": "stdout",
     "output_type": "stream",
     "text": [
      "\u001b[1m116/116\u001b[0m \u001b[32m━━━━━━━━━━━━━━━━━━━━\u001b[0m\u001b[37m\u001b[0m \u001b[1m0s\u001b[0m 1ms/step\n"
     ]
    }
   ],
   "source": [
    "predicted20 = model20.predict(numpy_x_test)"
   ]
  },
  {
   "cell_type": "code",
   "execution_count": 37,
   "id": "5ca252d1-a531-4117-a914-179e21ffe83d",
   "metadata": {},
   "outputs": [
    {
     "name": "stdout",
     "output_type": "stream",
     "text": [
      "numpy_y_test shape:  (3699, 2)\n",
      "[[1. 0.]\n",
      " [0. 1.]\n",
      " [1. 0.]\n",
      " ...\n",
      " [1. 0.]\n",
      " [0. 1.]\n",
      " [1. 0.]]\n",
      "predicted:  (3699, 2)\n",
      "[[1.00000000e+00 1.05502252e-15]\n",
      " [1.00000000e+00 5.26568572e-33]\n",
      " [1.00000000e+00 8.40779079e-45]\n",
      " ...\n",
      " [9.99881983e-01 1.18048585e-04]\n",
      " [3.11749894e-16 1.00000000e+00]\n",
      " [1.00000000e+00 3.08029519e-10]]\n"
     ]
    }
   ],
   "source": [
    "print(\"numpy_y_test shape: \", numpy_y_test.shape)\n",
    "print(numpy_y_test)\n",
    "print(\"predicted: \", predicted20.shape)\n",
    "print(predicted)"
   ]
  },
  {
   "cell_type": "code",
   "execution_count": 38,
   "id": "47f8fb81-e9aa-436c-968b-c1e7f3fcea96",
   "metadata": {},
   "outputs": [
    {
     "name": "stdout",
     "output_type": "stream",
     "text": [
      "true negative:  3053\n",
      "false positive:  71\n",
      "false negative:  350\n",
      "true positive:  225\n",
      "20 layers:\n",
      "Accuracy:  0.8861854555285212\n",
      "True-positive rate:  0.7601351351351351\n",
      "True-negative rate:  0.8971495739053776\n",
      "F1 Score:  0.5166475315729047\n"
     ]
    }
   ],
   "source": [
    "acc20, tpr20, tnr20, f120 = genResults(numpy_y_test, predicted20)\n",
    "\n",
    "print(\"20 layers:\")\n",
    "print(\"Accuracy: \", acc20)\n",
    "print(\"True-positive rate: \", tpr20)\n",
    "print(\"True-negative rate: \", tnr20)\n",
    "print(\"F1 Score: \", f120)"
   ]
  },
  {
   "cell_type": "code",
   "execution_count": 39,
   "id": "c02dcc94-cd6a-4d85-ace9-c1c9ad782643",
   "metadata": {},
   "outputs": [
    {
     "data": {
      "text/html": [
       "<pre style=\"white-space:pre;overflow-x:auto;line-height:normal;font-family:Menlo,'DejaVu Sans Mono',consolas,'Courier New',monospace\"><span style=\"font-weight: bold\">Model: \"sequential_2\"</span>\n",
       "</pre>\n"
      ],
      "text/plain": [
       "\u001b[1mModel: \"sequential_2\"\u001b[0m\n"
      ]
     },
     "metadata": {},
     "output_type": "display_data"
    },
    {
     "data": {
      "text/html": [
       "<pre style=\"white-space:pre;overflow-x:auto;line-height:normal;font-family:Menlo,'DejaVu Sans Mono',consolas,'Courier New',monospace\">┏━━━━━━━━━━━━━━━━━━━━━━━━━━━━━━━━━━━━━━┳━━━━━━━━━━━━━━━━━━━━━━━━━━━━━┳━━━━━━━━━━━━━━━━━┓\n",
       "┃<span style=\"font-weight: bold\"> Layer (type)                         </span>┃<span style=\"font-weight: bold\"> Output Shape                </span>┃<span style=\"font-weight: bold\">         Param # </span>┃\n",
       "┡━━━━━━━━━━━━━━━━━━━━━━━━━━━━━━━━━━━━━━╇━━━━━━━━━━━━━━━━━━━━━━━━━━━━━╇━━━━━━━━━━━━━━━━━┩\n",
       "│ dense_4 (<span style=\"color: #0087ff; text-decoration-color: #0087ff\">Dense</span>)                      │ (<span style=\"color: #00d7ff; text-decoration-color: #00d7ff\">None</span>, <span style=\"color: #00af00; text-decoration-color: #00af00\">11</span>, <span style=\"color: #00af00; text-decoration-color: #00af00\">40</span>)              │              <span style=\"color: #00af00; text-decoration-color: #00af00\">80</span> │\n",
       "├──────────────────────────────────────┼─────────────────────────────┼─────────────────┤\n",
       "│ flatten_2 (<span style=\"color: #0087ff; text-decoration-color: #0087ff\">Flatten</span>)                  │ (<span style=\"color: #00d7ff; text-decoration-color: #00d7ff\">None</span>, <span style=\"color: #00af00; text-decoration-color: #00af00\">440</span>)                 │               <span style=\"color: #00af00; text-decoration-color: #00af00\">0</span> │\n",
       "├──────────────────────────────────────┼─────────────────────────────┼─────────────────┤\n",
       "│ dropout_2 (<span style=\"color: #0087ff; text-decoration-color: #0087ff\">Dropout</span>)                  │ (<span style=\"color: #00d7ff; text-decoration-color: #00d7ff\">None</span>, <span style=\"color: #00af00; text-decoration-color: #00af00\">440</span>)                 │               <span style=\"color: #00af00; text-decoration-color: #00af00\">0</span> │\n",
       "├──────────────────────────────────────┼─────────────────────────────┼─────────────────┤\n",
       "│ dense_5 (<span style=\"color: #0087ff; text-decoration-color: #0087ff\">Dense</span>)                      │ (<span style=\"color: #00d7ff; text-decoration-color: #00d7ff\">None</span>, <span style=\"color: #00af00; text-decoration-color: #00af00\">2</span>)                   │             <span style=\"color: #00af00; text-decoration-color: #00af00\">882</span> │\n",
       "└──────────────────────────────────────┴─────────────────────────────┴─────────────────┘\n",
       "</pre>\n"
      ],
      "text/plain": [
       "┏━━━━━━━━━━━━━━━━━━━━━━━━━━━━━━━━━━━━━━┳━━━━━━━━━━━━━━━━━━━━━━━━━━━━━┳━━━━━━━━━━━━━━━━━┓\n",
       "┃\u001b[1m \u001b[0m\u001b[1mLayer (type)                        \u001b[0m\u001b[1m \u001b[0m┃\u001b[1m \u001b[0m\u001b[1mOutput Shape               \u001b[0m\u001b[1m \u001b[0m┃\u001b[1m \u001b[0m\u001b[1m        Param #\u001b[0m\u001b[1m \u001b[0m┃\n",
       "┡━━━━━━━━━━━━━━━━━━━━━━━━━━━━━━━━━━━━━━╇━━━━━━━━━━━━━━━━━━━━━━━━━━━━━╇━━━━━━━━━━━━━━━━━┩\n",
       "│ dense_4 (\u001b[38;5;33mDense\u001b[0m)                      │ (\u001b[38;5;45mNone\u001b[0m, \u001b[38;5;34m11\u001b[0m, \u001b[38;5;34m40\u001b[0m)              │              \u001b[38;5;34m80\u001b[0m │\n",
       "├──────────────────────────────────────┼─────────────────────────────┼─────────────────┤\n",
       "│ flatten_2 (\u001b[38;5;33mFlatten\u001b[0m)                  │ (\u001b[38;5;45mNone\u001b[0m, \u001b[38;5;34m440\u001b[0m)                 │               \u001b[38;5;34m0\u001b[0m │\n",
       "├──────────────────────────────────────┼─────────────────────────────┼─────────────────┤\n",
       "│ dropout_2 (\u001b[38;5;33mDropout\u001b[0m)                  │ (\u001b[38;5;45mNone\u001b[0m, \u001b[38;5;34m440\u001b[0m)                 │               \u001b[38;5;34m0\u001b[0m │\n",
       "├──────────────────────────────────────┼─────────────────────────────┼─────────────────┤\n",
       "│ dense_5 (\u001b[38;5;33mDense\u001b[0m)                      │ (\u001b[38;5;45mNone\u001b[0m, \u001b[38;5;34m2\u001b[0m)                   │             \u001b[38;5;34m882\u001b[0m │\n",
       "└──────────────────────────────────────┴─────────────────────────────┴─────────────────┘\n"
      ]
     },
     "metadata": {},
     "output_type": "display_data"
    },
    {
     "data": {
      "text/html": [
       "<pre style=\"white-space:pre;overflow-x:auto;line-height:normal;font-family:Menlo,'DejaVu Sans Mono',consolas,'Courier New',monospace\"><span style=\"font-weight: bold\"> Total params: </span><span style=\"color: #00af00; text-decoration-color: #00af00\">962</span> (3.76 KB)\n",
       "</pre>\n"
      ],
      "text/plain": [
       "\u001b[1m Total params: \u001b[0m\u001b[38;5;34m962\u001b[0m (3.76 KB)\n"
      ]
     },
     "metadata": {},
     "output_type": "display_data"
    },
    {
     "data": {
      "text/html": [
       "<pre style=\"white-space:pre;overflow-x:auto;line-height:normal;font-family:Menlo,'DejaVu Sans Mono',consolas,'Courier New',monospace\"><span style=\"font-weight: bold\"> Trainable params: </span><span style=\"color: #00af00; text-decoration-color: #00af00\">962</span> (3.76 KB)\n",
       "</pre>\n"
      ],
      "text/plain": [
       "\u001b[1m Trainable params: \u001b[0m\u001b[38;5;34m962\u001b[0m (3.76 KB)\n"
      ]
     },
     "metadata": {},
     "output_type": "display_data"
    },
    {
     "data": {
      "text/html": [
       "<pre style=\"white-space:pre;overflow-x:auto;line-height:normal;font-family:Menlo,'DejaVu Sans Mono',consolas,'Courier New',monospace\"><span style=\"font-weight: bold\"> Non-trainable params: </span><span style=\"color: #00af00; text-decoration-color: #00af00\">0</span> (0.00 B)\n",
       "</pre>\n"
      ],
      "text/plain": [
       "\u001b[1m Non-trainable params: \u001b[0m\u001b[38;5;34m0\u001b[0m (0.00 B)\n"
      ]
     },
     "metadata": {},
     "output_type": "display_data"
    }
   ],
   "source": [
    "model40 = keras.Sequential(\n",
    "    [\n",
    "        keras.Input(shape=input_shape),\n",
    "        layers.Dense(40, activation=\"relu\"),\n",
    "        layers.Flatten(),\n",
    "        layers.Dropout(dropOut),\n",
    "        layers.Dense(num_classes, activation=\"softmax\"),\n",
    "    ]\n",
    ")\n",
    "\n",
    "model40.summary()"
   ]
  },
  {
   "cell_type": "code",
   "execution_count": 40,
   "id": "aa7b3aff-e24d-4b7c-a764-15b0306dfbeb",
   "metadata": {},
   "outputs": [
    {
     "name": "stdout",
     "output_type": "stream",
     "text": [
      "Epoch 1/30\n",
      "\u001b[1m61/61\u001b[0m \u001b[32m━━━━━━━━━━━━━━━━━━━━\u001b[0m\u001b[37m\u001b[0m \u001b[1m0s\u001b[0m 4ms/step - accuracy: 0.6464 - loss: 0.3428 - val_accuracy: 0.8461 - val_loss: 0.1544\n",
      "Epoch 2/30\n",
      "\u001b[1m61/61\u001b[0m \u001b[32m━━━━━━━━━━━━━━━━━━━━\u001b[0m\u001b[37m\u001b[0m \u001b[1m0s\u001b[0m 3ms/step - accuracy: 0.8377 - loss: 0.1617 - val_accuracy: 0.8461 - val_loss: 0.1541\n",
      "Epoch 3/30\n",
      "\u001b[1m61/61\u001b[0m \u001b[32m━━━━━━━━━━━━━━━━━━━━\u001b[0m\u001b[37m\u001b[0m \u001b[1m0s\u001b[0m 3ms/step - accuracy: 0.8481 - loss: 0.1518 - val_accuracy: 0.8461 - val_loss: 0.1540\n",
      "Epoch 4/30\n",
      "\u001b[1m61/61\u001b[0m \u001b[32m━━━━━━━━━━━━━━━━━━━━\u001b[0m\u001b[37m\u001b[0m \u001b[1m0s\u001b[0m 3ms/step - accuracy: 0.8487 - loss: 0.1513 - val_accuracy: 0.8461 - val_loss: 0.1540\n",
      "Epoch 5/30\n",
      "\u001b[1m61/61\u001b[0m \u001b[32m━━━━━━━━━━━━━━━━━━━━\u001b[0m\u001b[37m\u001b[0m \u001b[1m0s\u001b[0m 3ms/step - accuracy: 0.8453 - loss: 0.1546 - val_accuracy: 0.8461 - val_loss: 0.1539\n",
      "Epoch 6/30\n",
      "\u001b[1m61/61\u001b[0m \u001b[32m━━━━━━━━━━━━━━━━━━━━\u001b[0m\u001b[37m\u001b[0m \u001b[1m0s\u001b[0m 3ms/step - accuracy: 0.8406 - loss: 0.1590 - val_accuracy: 0.8461 - val_loss: 0.1536\n",
      "Epoch 7/30\n",
      "\u001b[1m61/61\u001b[0m \u001b[32m━━━━━━━━━━━━━━━━━━━━\u001b[0m\u001b[37m\u001b[0m \u001b[1m0s\u001b[0m 4ms/step - accuracy: 0.8417 - loss: 0.1582 - val_accuracy: 0.8472 - val_loss: 0.1529\n",
      "Epoch 8/30\n",
      "\u001b[1m61/61\u001b[0m \u001b[32m━━━━━━━━━━━━━━━━━━━━\u001b[0m\u001b[37m\u001b[0m \u001b[1m0s\u001b[0m 3ms/step - accuracy: 0.8499 - loss: 0.1499 - val_accuracy: 0.8461 - val_loss: 0.1531\n",
      "Epoch 9/30\n",
      "\u001b[1m61/61\u001b[0m \u001b[32m━━━━━━━━━━━━━━━━━━━━\u001b[0m\u001b[37m\u001b[0m \u001b[1m0s\u001b[0m 4ms/step - accuracy: 0.8456 - loss: 0.1543 - val_accuracy: 0.8472 - val_loss: 0.1528\n",
      "Epoch 10/30\n",
      "\u001b[1m61/61\u001b[0m \u001b[32m━━━━━━━━━━━━━━━━━━━━\u001b[0m\u001b[37m\u001b[0m \u001b[1m0s\u001b[0m 3ms/step - accuracy: 0.8519 - loss: 0.1481 - val_accuracy: 0.8472 - val_loss: 0.1528\n",
      "Epoch 11/30\n",
      "\u001b[1m61/61\u001b[0m \u001b[32m━━━━━━━━━━━━━━━━━━━━\u001b[0m\u001b[37m\u001b[0m \u001b[1m0s\u001b[0m 3ms/step - accuracy: 0.8452 - loss: 0.1544 - val_accuracy: 0.8472 - val_loss: 0.1528\n",
      "Epoch 12/30\n",
      "\u001b[1m61/61\u001b[0m \u001b[32m━━━━━━━━━━━━━━━━━━━━\u001b[0m\u001b[37m\u001b[0m \u001b[1m0s\u001b[0m 3ms/step - accuracy: 0.8553 - loss: 0.1448 - val_accuracy: 0.8472 - val_loss: 0.1528\n",
      "Epoch 13/30\n",
      "\u001b[1m61/61\u001b[0m \u001b[32m━━━━━━━━━━━━━━━━━━━━\u001b[0m\u001b[37m\u001b[0m \u001b[1m0s\u001b[0m 3ms/step - accuracy: 0.8479 - loss: 0.1517 - val_accuracy: 0.8472 - val_loss: 0.1525\n",
      "Epoch 14/30\n",
      "\u001b[1m61/61\u001b[0m \u001b[32m━━━━━━━━━━━━━━━━━━━━\u001b[0m\u001b[37m\u001b[0m \u001b[1m0s\u001b[0m 4ms/step - accuracy: 0.8527 - loss: 0.1474 - val_accuracy: 0.8484 - val_loss: 0.1515\n",
      "Epoch 15/30\n",
      "\u001b[1m61/61\u001b[0m \u001b[32m━━━━━━━━━━━━━━━━━━━━\u001b[0m\u001b[37m\u001b[0m \u001b[1m0s\u001b[0m 3ms/step - accuracy: 0.8464 - loss: 0.1534 - val_accuracy: 0.8530 - val_loss: 0.1471\n",
      "Epoch 16/30\n",
      "\u001b[1m61/61\u001b[0m \u001b[32m━━━━━━━━━━━━━━━━━━━━\u001b[0m\u001b[37m\u001b[0m \u001b[1m0s\u001b[0m 3ms/step - accuracy: 0.8494 - loss: 0.1506 - val_accuracy: 0.8530 - val_loss: 0.1470\n",
      "Epoch 17/30\n",
      "\u001b[1m61/61\u001b[0m \u001b[32m━━━━━━━━━━━━━━━━━━━━\u001b[0m\u001b[37m\u001b[0m \u001b[1m0s\u001b[0m 4ms/step - accuracy: 0.8465 - loss: 0.1533 - val_accuracy: 0.8588 - val_loss: 0.1413\n",
      "Epoch 18/30\n",
      "\u001b[1m61/61\u001b[0m \u001b[32m━━━━━━━━━━━━━━━━━━━━\u001b[0m\u001b[37m\u001b[0m \u001b[1m0s\u001b[0m 3ms/step - accuracy: 0.8587 - loss: 0.1411 - val_accuracy: 0.8600 - val_loss: 0.1393\n",
      "Epoch 19/30\n",
      "\u001b[1m61/61\u001b[0m \u001b[32m━━━━━━━━━━━━━━━━━━━━\u001b[0m\u001b[37m\u001b[0m \u001b[1m0s\u001b[0m 3ms/step - accuracy: 0.8582 - loss: 0.1403 - val_accuracy: 0.8773 - val_loss: 0.1212\n",
      "Epoch 20/30\n",
      "\u001b[1m61/61\u001b[0m \u001b[32m━━━━━━━━━━━━━━━━━━━━\u001b[0m\u001b[37m\u001b[0m \u001b[1m0s\u001b[0m 3ms/step - accuracy: 0.8651 - loss: 0.1337 - val_accuracy: 0.8657 - val_loss: 0.1339\n",
      "Epoch 21/30\n",
      "\u001b[1m61/61\u001b[0m \u001b[32m━━━━━━━━━━━━━━━━━━━━\u001b[0m\u001b[37m\u001b[0m \u001b[1m0s\u001b[0m 3ms/step - accuracy: 0.8736 - loss: 0.1252 - val_accuracy: 0.8877 - val_loss: 0.1121\n",
      "Epoch 22/30\n",
      "\u001b[1m61/61\u001b[0m \u001b[32m━━━━━━━━━━━━━━━━━━━━\u001b[0m\u001b[37m\u001b[0m \u001b[1m0s\u001b[0m 3ms/step - accuracy: 0.8762 - loss: 0.1227 - val_accuracy: 0.8831 - val_loss: 0.1161\n",
      "Epoch 23/30\n",
      "\u001b[1m61/61\u001b[0m \u001b[32m━━━━━━━━━━━━━━━━━━━━\u001b[0m\u001b[37m\u001b[0m \u001b[1m0s\u001b[0m 3ms/step - accuracy: 0.8750 - loss: 0.1237 - val_accuracy: 0.8947 - val_loss: 0.1041\n",
      "Epoch 24/30\n",
      "\u001b[1m61/61\u001b[0m \u001b[32m━━━━━━━━━━━━━━━━━━━━\u001b[0m\u001b[37m\u001b[0m \u001b[1m0s\u001b[0m 3ms/step - accuracy: 0.8713 - loss: 0.1262 - val_accuracy: 0.8831 - val_loss: 0.1158\n",
      "Epoch 25/30\n",
      "\u001b[1m61/61\u001b[0m \u001b[32m━━━━━━━━━━━━━━━━━━━━\u001b[0m\u001b[37m\u001b[0m \u001b[1m0s\u001b[0m 3ms/step - accuracy: 0.8841 - loss: 0.1153 - val_accuracy: 0.8958 - val_loss: 0.1030\n",
      "Epoch 26/30\n",
      "\u001b[1m61/61\u001b[0m \u001b[32m━━━━━━━━━━━━━━━━━━━━\u001b[0m\u001b[37m\u001b[0m \u001b[1m0s\u001b[0m 3ms/step - accuracy: 0.8864 - loss: 0.1122 - val_accuracy: 0.8958 - val_loss: 0.1019\n",
      "Epoch 27/30\n",
      "\u001b[1m61/61\u001b[0m \u001b[32m━━━━━━━━━━━━━━━━━━━━\u001b[0m\u001b[37m\u001b[0m \u001b[1m0s\u001b[0m 3ms/step - accuracy: 0.8868 - loss: 0.1123 - val_accuracy: 0.8935 - val_loss: 0.1035\n",
      "Epoch 28/30\n",
      "\u001b[1m61/61\u001b[0m \u001b[32m━━━━━━━━━━━━━━━━━━━━\u001b[0m\u001b[37m\u001b[0m \u001b[1m0s\u001b[0m 3ms/step - accuracy: 0.8856 - loss: 0.1135 - val_accuracy: 0.8947 - val_loss: 0.1046\n",
      "Epoch 29/30\n",
      "\u001b[1m61/61\u001b[0m \u001b[32m━━━━━━━━━━━━━━━━━━━━\u001b[0m\u001b[37m\u001b[0m \u001b[1m0s\u001b[0m 3ms/step - accuracy: 0.8898 - loss: 0.1079 - val_accuracy: 0.8900 - val_loss: 0.1082\n",
      "Epoch 30/30\n",
      "\u001b[1m61/61\u001b[0m \u001b[32m━━━━━━━━━━━━━━━━━━━━\u001b[0m\u001b[37m\u001b[0m \u001b[1m0s\u001b[0m 3ms/step - accuracy: 0.8843 - loss: 0.1147 - val_accuracy: 0.8947 - val_loss: 0.1035\n"
     ]
    },
    {
     "data": {
      "text/plain": [
       "<keras.src.callbacks.history.History at 0x271eb8ca270>"
      ]
     },
     "execution_count": 40,
     "metadata": {},
     "output_type": "execute_result"
    }
   ],
   "source": [
    "model40.compile(loss=\"mean_squared_error\", optimizer=\"adam\", \n",
    "              metrics=[\"accuracy\"])\n",
    "\n",
    "model40.fit(numpy_x_train, numpy_y_train, batch_size=batch_size, \n",
    "          epochs=epochs, validation_split=0.1)"
   ]
  },
  {
   "cell_type": "code",
   "execution_count": 41,
   "id": "339451b2-4384-4672-8d2e-587059935e87",
   "metadata": {},
   "outputs": [
    {
     "name": "stdout",
     "output_type": "stream",
     "text": [
      "\u001b[1m116/116\u001b[0m \u001b[32m━━━━━━━━━━━━━━━━━━━━\u001b[0m\u001b[37m\u001b[0m \u001b[1m0s\u001b[0m 1ms/step\n"
     ]
    }
   ],
   "source": [
    "predicted40 = model40.predict(numpy_x_test)"
   ]
  },
  {
   "cell_type": "code",
   "execution_count": 42,
   "id": "4e0ccab9-d977-4dba-b082-34970fa3cbd3",
   "metadata": {},
   "outputs": [
    {
     "name": "stdout",
     "output_type": "stream",
     "text": [
      "true negative:  2953\n",
      "false positive:  171\n",
      "false negative:  249\n",
      "true positive:  326\n",
      "40 layers:\n",
      "Accuracy:  0.8864557988645579\n",
      "True-positive rate:  0.6559356136820925\n",
      "True-negative rate:  0.9222361024359775\n",
      "F1 Score:  0.6082089552238806\n"
     ]
    }
   ],
   "source": [
    "acc40, tpr40, tnr40, f140 = genResults(numpy_y_test, predicted40)\n",
    "\n",
    "print(\"40 layers:\")\n",
    "print(\"Accuracy: \", acc40)\n",
    "print(\"True-positive rate: \", tpr40)\n",
    "print(\"True-negative rate: \", tnr40)\n",
    "print(\"F1 Score: \", f140)"
   ]
  },
  {
   "cell_type": "code",
   "execution_count": 43,
   "id": "f03a3d02-4cc8-49d3-a144-f7e4915fe884",
   "metadata": {},
   "outputs": [],
   "source": [
    "# now we try oversampling\n",
    "ros = RandomOverSampler(random_state=42)\n",
    "df_copy_x_resampled, df_copy_y_resampled = ros.fit_resample(df_copy_x, df_copy_y)\n",
    "\n",
    "df_copy_x_resampled_train, df_copy_x__resampled_test, df_copy_y_resampled_train, df_copy_y_resampled_test = train_test_split(\n",
    "    df_copy_x_resampled, df_copy_y_resampled, test_size=0.3, random_state=42)"
   ]
  },
  {
   "cell_type": "code",
   "execution_count": 44,
   "id": "233f1495-9c8a-4911-85fa-f712604d8002",
   "metadata": {},
   "outputs": [
    {
     "name": "stdout",
     "output_type": "stream",
     "text": [
      "x_train shape: (14590, 11, 1)\n",
      "14590 train samples\n",
      "6254 test samples\n",
      "y_train shape:  (14590, 2)\n"
     ]
    }
   ],
   "source": [
    "numpy_x_resampled_train = df_copy_x_resampled_train.to_numpy()\n",
    "numpy_x_resampled_test = df_copy_x__resampled_test.to_numpy()\n",
    "numpy_y_resampled_train = df_copy_y_resampled_train.to_numpy()\n",
    "numpy_y_resampled_test = df_copy_y_resampled_test.to_numpy()\n",
    "\n",
    "num_classes = 2\n",
    "\n",
    "# input_shape = (2, 1)\n",
    "\n",
    "# Make sure images have shape (28, 28, 1)\n",
    "numpy_x_resampled_train = np.expand_dims(numpy_x_resampled_train, -1)\n",
    "numpy_x_resampled_test = np.expand_dims(numpy_x_resampled_test, -1)\n",
    "print(\"x_train shape:\", numpy_x_resampled_train.shape)\n",
    "print(numpy_x_resampled_train.shape[0], \"train samples\")\n",
    "print(numpy_x_resampled_test.shape[0], \"test samples\")\n",
    "\n",
    "# convert class vectors to binary class matrices\n",
    "numpy_y_resampled_train = keras.utils.to_categorical(numpy_y_resampled_train, num_classes)\n",
    "numpy_y_resampled_test = keras.utils.to_categorical(numpy_y_resampled_test, num_classes)\n",
    "\n",
    "print(\"y_train shape: \", numpy_y_resampled_train.shape)"
   ]
  },
  {
   "cell_type": "code",
   "execution_count": 45,
   "id": "f4938068-d7b8-4150-aca9-83a6d9d339e4",
   "metadata": {},
   "outputs": [
    {
     "data": {
      "text/html": [
       "<pre style=\"white-space:pre;overflow-x:auto;line-height:normal;font-family:Menlo,'DejaVu Sans Mono',consolas,'Courier New',monospace\"><span style=\"font-weight: bold\">Model: \"sequential_3\"</span>\n",
       "</pre>\n"
      ],
      "text/plain": [
       "\u001b[1mModel: \"sequential_3\"\u001b[0m\n"
      ]
     },
     "metadata": {},
     "output_type": "display_data"
    },
    {
     "data": {
      "text/html": [
       "<pre style=\"white-space:pre;overflow-x:auto;line-height:normal;font-family:Menlo,'DejaVu Sans Mono',consolas,'Courier New',monospace\">┏━━━━━━━━━━━━━━━━━━━━━━━━━━━━━━━━━━━━━━┳━━━━━━━━━━━━━━━━━━━━━━━━━━━━━┳━━━━━━━━━━━━━━━━━┓\n",
       "┃<span style=\"font-weight: bold\"> Layer (type)                         </span>┃<span style=\"font-weight: bold\"> Output Shape                </span>┃<span style=\"font-weight: bold\">         Param # </span>┃\n",
       "┡━━━━━━━━━━━━━━━━━━━━━━━━━━━━━━━━━━━━━━╇━━━━━━━━━━━━━━━━━━━━━━━━━━━━━╇━━━━━━━━━━━━━━━━━┩\n",
       "│ dense_6 (<span style=\"color: #0087ff; text-decoration-color: #0087ff\">Dense</span>)                      │ (<span style=\"color: #00d7ff; text-decoration-color: #00d7ff\">None</span>, <span style=\"color: #00af00; text-decoration-color: #00af00\">11</span>, <span style=\"color: #00af00; text-decoration-color: #00af00\">10</span>)              │              <span style=\"color: #00af00; text-decoration-color: #00af00\">20</span> │\n",
       "├──────────────────────────────────────┼─────────────────────────────┼─────────────────┤\n",
       "│ flatten_3 (<span style=\"color: #0087ff; text-decoration-color: #0087ff\">Flatten</span>)                  │ (<span style=\"color: #00d7ff; text-decoration-color: #00d7ff\">None</span>, <span style=\"color: #00af00; text-decoration-color: #00af00\">110</span>)                 │               <span style=\"color: #00af00; text-decoration-color: #00af00\">0</span> │\n",
       "├──────────────────────────────────────┼─────────────────────────────┼─────────────────┤\n",
       "│ dropout_3 (<span style=\"color: #0087ff; text-decoration-color: #0087ff\">Dropout</span>)                  │ (<span style=\"color: #00d7ff; text-decoration-color: #00d7ff\">None</span>, <span style=\"color: #00af00; text-decoration-color: #00af00\">110</span>)                 │               <span style=\"color: #00af00; text-decoration-color: #00af00\">0</span> │\n",
       "├──────────────────────────────────────┼─────────────────────────────┼─────────────────┤\n",
       "│ dense_7 (<span style=\"color: #0087ff; text-decoration-color: #0087ff\">Dense</span>)                      │ (<span style=\"color: #00d7ff; text-decoration-color: #00d7ff\">None</span>, <span style=\"color: #00af00; text-decoration-color: #00af00\">2</span>)                   │             <span style=\"color: #00af00; text-decoration-color: #00af00\">222</span> │\n",
       "└──────────────────────────────────────┴─────────────────────────────┴─────────────────┘\n",
       "</pre>\n"
      ],
      "text/plain": [
       "┏━━━━━━━━━━━━━━━━━━━━━━━━━━━━━━━━━━━━━━┳━━━━━━━━━━━━━━━━━━━━━━━━━━━━━┳━━━━━━━━━━━━━━━━━┓\n",
       "┃\u001b[1m \u001b[0m\u001b[1mLayer (type)                        \u001b[0m\u001b[1m \u001b[0m┃\u001b[1m \u001b[0m\u001b[1mOutput Shape               \u001b[0m\u001b[1m \u001b[0m┃\u001b[1m \u001b[0m\u001b[1m        Param #\u001b[0m\u001b[1m \u001b[0m┃\n",
       "┡━━━━━━━━━━━━━━━━━━━━━━━━━━━━━━━━━━━━━━╇━━━━━━━━━━━━━━━━━━━━━━━━━━━━━╇━━━━━━━━━━━━━━━━━┩\n",
       "│ dense_6 (\u001b[38;5;33mDense\u001b[0m)                      │ (\u001b[38;5;45mNone\u001b[0m, \u001b[38;5;34m11\u001b[0m, \u001b[38;5;34m10\u001b[0m)              │              \u001b[38;5;34m20\u001b[0m │\n",
       "├──────────────────────────────────────┼─────────────────────────────┼─────────────────┤\n",
       "│ flatten_3 (\u001b[38;5;33mFlatten\u001b[0m)                  │ (\u001b[38;5;45mNone\u001b[0m, \u001b[38;5;34m110\u001b[0m)                 │               \u001b[38;5;34m0\u001b[0m │\n",
       "├──────────────────────────────────────┼─────────────────────────────┼─────────────────┤\n",
       "│ dropout_3 (\u001b[38;5;33mDropout\u001b[0m)                  │ (\u001b[38;5;45mNone\u001b[0m, \u001b[38;5;34m110\u001b[0m)                 │               \u001b[38;5;34m0\u001b[0m │\n",
       "├──────────────────────────────────────┼─────────────────────────────┼─────────────────┤\n",
       "│ dense_7 (\u001b[38;5;33mDense\u001b[0m)                      │ (\u001b[38;5;45mNone\u001b[0m, \u001b[38;5;34m2\u001b[0m)                   │             \u001b[38;5;34m222\u001b[0m │\n",
       "└──────────────────────────────────────┴─────────────────────────────┴─────────────────┘\n"
      ]
     },
     "metadata": {},
     "output_type": "display_data"
    },
    {
     "data": {
      "text/html": [
       "<pre style=\"white-space:pre;overflow-x:auto;line-height:normal;font-family:Menlo,'DejaVu Sans Mono',consolas,'Courier New',monospace\"><span style=\"font-weight: bold\"> Total params: </span><span style=\"color: #00af00; text-decoration-color: #00af00\">242</span> (968.00 B)\n",
       "</pre>\n"
      ],
      "text/plain": [
       "\u001b[1m Total params: \u001b[0m\u001b[38;5;34m242\u001b[0m (968.00 B)\n"
      ]
     },
     "metadata": {},
     "output_type": "display_data"
    },
    {
     "data": {
      "text/html": [
       "<pre style=\"white-space:pre;overflow-x:auto;line-height:normal;font-family:Menlo,'DejaVu Sans Mono',consolas,'Courier New',monospace\"><span style=\"font-weight: bold\"> Trainable params: </span><span style=\"color: #00af00; text-decoration-color: #00af00\">242</span> (968.00 B)\n",
       "</pre>\n"
      ],
      "text/plain": [
       "\u001b[1m Trainable params: \u001b[0m\u001b[38;5;34m242\u001b[0m (968.00 B)\n"
      ]
     },
     "metadata": {},
     "output_type": "display_data"
    },
    {
     "data": {
      "text/html": [
       "<pre style=\"white-space:pre;overflow-x:auto;line-height:normal;font-family:Menlo,'DejaVu Sans Mono',consolas,'Courier New',monospace\"><span style=\"font-weight: bold\"> Non-trainable params: </span><span style=\"color: #00af00; text-decoration-color: #00af00\">0</span> (0.00 B)\n",
       "</pre>\n"
      ],
      "text/plain": [
       "\u001b[1m Non-trainable params: \u001b[0m\u001b[38;5;34m0\u001b[0m (0.00 B)\n"
      ]
     },
     "metadata": {},
     "output_type": "display_data"
    }
   ],
   "source": [
    "model_r = keras.Sequential(\n",
    "    [\n",
    "        keras.Input(shape=input_shape),\n",
    "        layers.Dense(10, activation=\"relu\"),\n",
    "        layers.Flatten(),\n",
    "        layers.Dropout(dropOut),\n",
    "        layers.Dense(num_classes, activation=\"softmax\"),\n",
    "    ]\n",
    ")\n",
    "\n",
    "model_r.summary()"
   ]
  },
  {
   "cell_type": "code",
   "execution_count": 46,
   "id": "02e50ed4-aacd-47d0-a88f-5ce016843cd1",
   "metadata": {},
   "outputs": [
    {
     "name": "stdout",
     "output_type": "stream",
     "text": [
      "Epoch 1/30\n",
      "\u001b[1m103/103\u001b[0m \u001b[32m━━━━━━━━━━━━━━━━━━━━\u001b[0m\u001b[37m\u001b[0m \u001b[1m0s\u001b[0m 3ms/step - accuracy: 0.5021 - loss: 0.4754 - val_accuracy: 0.5161 - val_loss: 0.4757\n",
      "Epoch 2/30\n",
      "\u001b[1m103/103\u001b[0m \u001b[32m━━━━━━━━━━━━━━━━━━━━\u001b[0m\u001b[37m\u001b[0m \u001b[1m0s\u001b[0m 3ms/step - accuracy: 0.5395 - loss: 0.4472 - val_accuracy: 0.5579 - val_loss: 0.4285\n",
      "Epoch 3/30\n",
      "\u001b[1m103/103\u001b[0m \u001b[32m━━━━━━━━━━━━━━━━━━━━\u001b[0m\u001b[37m\u001b[0m \u001b[1m0s\u001b[0m 3ms/step - accuracy: 0.5961 - loss: 0.3698 - val_accuracy: 0.6422 - val_loss: 0.3339\n",
      "Epoch 4/30\n",
      "\u001b[1m103/103\u001b[0m \u001b[32m━━━━━━━━━━━━━━━━━━━━\u001b[0m\u001b[37m\u001b[0m \u001b[1m0s\u001b[0m 3ms/step - accuracy: 0.6888 - loss: 0.2745 - val_accuracy: 0.8081 - val_loss: 0.1566\n",
      "Epoch 5/30\n",
      "\u001b[1m103/103\u001b[0m \u001b[32m━━━━━━━━━━━━━━━━━━━━\u001b[0m\u001b[37m\u001b[0m \u001b[1m0s\u001b[0m 3ms/step - accuracy: 0.7539 - loss: 0.1978 - val_accuracy: 0.8321 - val_loss: 0.1301\n",
      "Epoch 6/30\n",
      "\u001b[1m103/103\u001b[0m \u001b[32m━━━━━━━━━━━━━━━━━━━━\u001b[0m\u001b[37m\u001b[0m \u001b[1m0s\u001b[0m 3ms/step - accuracy: 0.7604 - loss: 0.1885 - val_accuracy: 0.7471 - val_loss: 0.1952\n",
      "Epoch 7/30\n",
      "\u001b[1m103/103\u001b[0m \u001b[32m━━━━━━━━━━━━━━━━━━━━\u001b[0m\u001b[37m\u001b[0m \u001b[1m0s\u001b[0m 3ms/step - accuracy: 0.7492 - loss: 0.1980 - val_accuracy: 0.8129 - val_loss: 0.1507\n",
      "Epoch 8/30\n",
      "\u001b[1m103/103\u001b[0m \u001b[32m━━━━━━━━━━━━━━━━━━━━\u001b[0m\u001b[37m\u001b[0m \u001b[1m0s\u001b[0m 3ms/step - accuracy: 0.7616 - loss: 0.1839 - val_accuracy: 0.8376 - val_loss: 0.1286\n",
      "Epoch 9/30\n",
      "\u001b[1m103/103\u001b[0m \u001b[32m━━━━━━━━━━━━━━━━━━━━\u001b[0m\u001b[37m\u001b[0m \u001b[1m0s\u001b[0m 3ms/step - accuracy: 0.7786 - loss: 0.1655 - val_accuracy: 0.8369 - val_loss: 0.1367\n",
      "Epoch 10/30\n",
      "\u001b[1m103/103\u001b[0m \u001b[32m━━━━━━━━━━━━━━━━━━━━\u001b[0m\u001b[37m\u001b[0m \u001b[1m0s\u001b[0m 3ms/step - accuracy: 0.7784 - loss: 0.1647 - val_accuracy: 0.8163 - val_loss: 0.1472\n",
      "Epoch 11/30\n",
      "\u001b[1m103/103\u001b[0m \u001b[32m━━━━━━━━━━━━━━━━━━━━\u001b[0m\u001b[37m\u001b[0m \u001b[1m0s\u001b[0m 3ms/step - accuracy: 0.7719 - loss: 0.1657 - val_accuracy: 0.8348 - val_loss: 0.1292\n",
      "Epoch 12/30\n",
      "\u001b[1m103/103\u001b[0m \u001b[32m━━━━━━━━━━━━━━━━━━━━\u001b[0m\u001b[37m\u001b[0m \u001b[1m0s\u001b[0m 3ms/step - accuracy: 0.7851 - loss: 0.1599 - val_accuracy: 0.8376 - val_loss: 0.1301\n",
      "Epoch 13/30\n",
      "\u001b[1m103/103\u001b[0m \u001b[32m━━━━━━━━━━━━━━━━━━━━\u001b[0m\u001b[37m\u001b[0m \u001b[1m0s\u001b[0m 3ms/step - accuracy: 0.7901 - loss: 0.1526 - val_accuracy: 0.8341 - val_loss: 0.1380\n",
      "Epoch 14/30\n",
      "\u001b[1m103/103\u001b[0m \u001b[32m━━━━━━━━━━━━━━━━━━━━\u001b[0m\u001b[37m\u001b[0m \u001b[1m0s\u001b[0m 3ms/step - accuracy: 0.7787 - loss: 0.1617 - val_accuracy: 0.8211 - val_loss: 0.1325\n",
      "Epoch 15/30\n",
      "\u001b[1m103/103\u001b[0m \u001b[32m━━━━━━━━━━━━━━━━━━━━\u001b[0m\u001b[37m\u001b[0m \u001b[1m0s\u001b[0m 4ms/step - accuracy: 0.7797 - loss: 0.1589 - val_accuracy: 0.8376 - val_loss: 0.1289\n",
      "Epoch 16/30\n",
      "\u001b[1m103/103\u001b[0m \u001b[32m━━━━━━━━━━━━━━━━━━━━\u001b[0m\u001b[37m\u001b[0m \u001b[1m0s\u001b[0m 3ms/step - accuracy: 0.7859 - loss: 0.1544 - val_accuracy: 0.8355 - val_loss: 0.1368\n",
      "Epoch 17/30\n",
      "\u001b[1m103/103\u001b[0m \u001b[32m━━━━━━━━━━━━━━━━━━━━\u001b[0m\u001b[37m\u001b[0m \u001b[1m0s\u001b[0m 3ms/step - accuracy: 0.7945 - loss: 0.1490 - val_accuracy: 0.8218 - val_loss: 0.1438\n",
      "Epoch 18/30\n",
      "\u001b[1m103/103\u001b[0m \u001b[32m━━━━━━━━━━━━━━━━━━━━\u001b[0m\u001b[37m\u001b[0m \u001b[1m0s\u001b[0m 4ms/step - accuracy: 0.7874 - loss: 0.1523 - val_accuracy: 0.8355 - val_loss: 0.1363\n",
      "Epoch 19/30\n",
      "\u001b[1m103/103\u001b[0m \u001b[32m━━━━━━━━━━━━━━━━━━━━\u001b[0m\u001b[37m\u001b[0m \u001b[1m0s\u001b[0m 3ms/step - accuracy: 0.7893 - loss: 0.1537 - val_accuracy: 0.8382 - val_loss: 0.1343\n",
      "Epoch 20/30\n",
      "\u001b[1m103/103\u001b[0m \u001b[32m━━━━━━━━━━━━━━━━━━━━\u001b[0m\u001b[37m\u001b[0m \u001b[1m0s\u001b[0m 4ms/step - accuracy: 0.7873 - loss: 0.1555 - val_accuracy: 0.8389 - val_loss: 0.1277\n",
      "Epoch 21/30\n",
      "\u001b[1m103/103\u001b[0m \u001b[32m━━━━━━━━━━━━━━━━━━━━\u001b[0m\u001b[37m\u001b[0m \u001b[1m0s\u001b[0m 3ms/step - accuracy: 0.7893 - loss: 0.1530 - val_accuracy: 0.8396 - val_loss: 0.1280\n",
      "Epoch 22/30\n",
      "\u001b[1m103/103\u001b[0m \u001b[32m━━━━━━━━━━━━━━━━━━━━\u001b[0m\u001b[37m\u001b[0m \u001b[1m0s\u001b[0m 3ms/step - accuracy: 0.7919 - loss: 0.1521 - val_accuracy: 0.8376 - val_loss: 0.1271\n",
      "Epoch 23/30\n",
      "\u001b[1m103/103\u001b[0m \u001b[32m━━━━━━━━━━━━━━━━━━━━\u001b[0m\u001b[37m\u001b[0m \u001b[1m0s\u001b[0m 3ms/step - accuracy: 0.7902 - loss: 0.1527 - val_accuracy: 0.8348 - val_loss: 0.1355\n",
      "Epoch 24/30\n",
      "\u001b[1m103/103\u001b[0m \u001b[32m━━━━━━━━━━━━━━━━━━━━\u001b[0m\u001b[37m\u001b[0m \u001b[1m0s\u001b[0m 3ms/step - accuracy: 0.7915 - loss: 0.1533 - val_accuracy: 0.8403 - val_loss: 0.1282\n",
      "Epoch 25/30\n",
      "\u001b[1m103/103\u001b[0m \u001b[32m━━━━━━━━━━━━━━━━━━━━\u001b[0m\u001b[37m\u001b[0m \u001b[1m0s\u001b[0m 4ms/step - accuracy: 0.7979 - loss: 0.1517 - val_accuracy: 0.8218 - val_loss: 0.1440\n",
      "Epoch 26/30\n",
      "\u001b[1m103/103\u001b[0m \u001b[32m━━━━━━━━━━━━━━━━━━━━\u001b[0m\u001b[37m\u001b[0m \u001b[1m0s\u001b[0m 3ms/step - accuracy: 0.7902 - loss: 0.1541 - val_accuracy: 0.8376 - val_loss: 0.1271\n",
      "Epoch 27/30\n",
      "\u001b[1m103/103\u001b[0m \u001b[32m━━━━━━━━━━━━━━━━━━━━\u001b[0m\u001b[37m\u001b[0m \u001b[1m0s\u001b[0m 3ms/step - accuracy: 0.7893 - loss: 0.1514 - val_accuracy: 0.8376 - val_loss: 0.1273\n",
      "Epoch 28/30\n",
      "\u001b[1m103/103\u001b[0m \u001b[32m━━━━━━━━━━━━━━━━━━━━\u001b[0m\u001b[37m\u001b[0m \u001b[1m0s\u001b[0m 3ms/step - accuracy: 0.7972 - loss: 0.1475 - val_accuracy: 0.8403 - val_loss: 0.1321\n",
      "Epoch 29/30\n",
      "\u001b[1m103/103\u001b[0m \u001b[32m━━━━━━━━━━━━━━━━━━━━\u001b[0m\u001b[37m\u001b[0m \u001b[1m0s\u001b[0m 3ms/step - accuracy: 0.7885 - loss: 0.1551 - val_accuracy: 0.8403 - val_loss: 0.1301\n",
      "Epoch 30/30\n",
      "\u001b[1m103/103\u001b[0m \u001b[32m━━━━━━━━━━━━━━━━━━━━\u001b[0m\u001b[37m\u001b[0m \u001b[1m0s\u001b[0m 4ms/step - accuracy: 0.7886 - loss: 0.1539 - val_accuracy: 0.8403 - val_loss: 0.1267\n"
     ]
    },
    {
     "data": {
      "text/plain": [
       "<keras.src.callbacks.history.History at 0x271eb8cb470>"
      ]
     },
     "execution_count": 46,
     "metadata": {},
     "output_type": "execute_result"
    }
   ],
   "source": [
    "model_r.compile(loss=\"mean_squared_error\", optimizer=\"adam\", \n",
    "              metrics=[\"accuracy\"])\n",
    "\n",
    "model_r.fit(numpy_x_resampled_train, numpy_y_resampled_train, batch_size=batch_size, \n",
    "          epochs=epochs, validation_split=0.1)"
   ]
  },
  {
   "cell_type": "code",
   "execution_count": 47,
   "id": "c12efd93-cc1e-4a31-ba2f-39a36cd5f498",
   "metadata": {},
   "outputs": [
    {
     "name": "stdout",
     "output_type": "stream",
     "text": [
      "\u001b[1m196/196\u001b[0m \u001b[32m━━━━━━━━━━━━━━━━━━━━\u001b[0m\u001b[37m\u001b[0m \u001b[1m0s\u001b[0m 1ms/step\n"
     ]
    }
   ],
   "source": [
    "predicted_r = model_r.predict(numpy_x_resampled_test)"
   ]
  },
  {
   "cell_type": "code",
   "execution_count": 48,
   "id": "fb3b27ad-c0b9-4245-a04a-50c44f720bab",
   "metadata": {},
   "outputs": [
    {
     "name": "stdout",
     "output_type": "stream",
     "text": [
      "true negative:  2759\n",
      "false positive:  364\n",
      "false negative:  654\n",
      "true positive:  2477\n",
      "10 layers:\n",
      "Accuracy:  0.8372241765270227\n",
      "True-positive rate:  0.8718760999648011\n",
      "True-negative rate:  0.8083797245824788\n",
      "F1 Score:  0.8295378432685867\n"
     ]
    }
   ],
   "source": [
    "acc_r, tpr_r, tnr_r, f1_r = genResults(numpy_y_resampled_test, predicted_r)\n",
    "\n",
    "print(\"10 layers:\")\n",
    "print(\"Accuracy: \", acc_r)\n",
    "print(\"True-positive rate: \", tpr_r)\n",
    "print(\"True-negative rate: \", tnr_r)\n",
    "print(\"F1 Score: \", f1_r)"
   ]
  },
  {
   "cell_type": "code",
   "execution_count": 49,
   "id": "a5a4cfd1-9462-4fab-8f55-1543ffeccb44",
   "metadata": {},
   "outputs": [
    {
     "data": {
      "text/html": [
       "<pre style=\"white-space:pre;overflow-x:auto;line-height:normal;font-family:Menlo,'DejaVu Sans Mono',consolas,'Courier New',monospace\"><span style=\"font-weight: bold\">Model: \"sequential_4\"</span>\n",
       "</pre>\n"
      ],
      "text/plain": [
       "\u001b[1mModel: \"sequential_4\"\u001b[0m\n"
      ]
     },
     "metadata": {},
     "output_type": "display_data"
    },
    {
     "data": {
      "text/html": [
       "<pre style=\"white-space:pre;overflow-x:auto;line-height:normal;font-family:Menlo,'DejaVu Sans Mono',consolas,'Courier New',monospace\">┏━━━━━━━━━━━━━━━━━━━━━━━━━━━━━━━━━━━━━━┳━━━━━━━━━━━━━━━━━━━━━━━━━━━━━┳━━━━━━━━━━━━━━━━━┓\n",
       "┃<span style=\"font-weight: bold\"> Layer (type)                         </span>┃<span style=\"font-weight: bold\"> Output Shape                </span>┃<span style=\"font-weight: bold\">         Param # </span>┃\n",
       "┡━━━━━━━━━━━━━━━━━━━━━━━━━━━━━━━━━━━━━━╇━━━━━━━━━━━━━━━━━━━━━━━━━━━━━╇━━━━━━━━━━━━━━━━━┩\n",
       "│ dense_8 (<span style=\"color: #0087ff; text-decoration-color: #0087ff\">Dense</span>)                      │ (<span style=\"color: #00d7ff; text-decoration-color: #00d7ff\">None</span>, <span style=\"color: #00af00; text-decoration-color: #00af00\">11</span>, <span style=\"color: #00af00; text-decoration-color: #00af00\">20</span>)              │              <span style=\"color: #00af00; text-decoration-color: #00af00\">40</span> │\n",
       "├──────────────────────────────────────┼─────────────────────────────┼─────────────────┤\n",
       "│ flatten_4 (<span style=\"color: #0087ff; text-decoration-color: #0087ff\">Flatten</span>)                  │ (<span style=\"color: #00d7ff; text-decoration-color: #00d7ff\">None</span>, <span style=\"color: #00af00; text-decoration-color: #00af00\">220</span>)                 │               <span style=\"color: #00af00; text-decoration-color: #00af00\">0</span> │\n",
       "├──────────────────────────────────────┼─────────────────────────────┼─────────────────┤\n",
       "│ dropout_4 (<span style=\"color: #0087ff; text-decoration-color: #0087ff\">Dropout</span>)                  │ (<span style=\"color: #00d7ff; text-decoration-color: #00d7ff\">None</span>, <span style=\"color: #00af00; text-decoration-color: #00af00\">220</span>)                 │               <span style=\"color: #00af00; text-decoration-color: #00af00\">0</span> │\n",
       "├──────────────────────────────────────┼─────────────────────────────┼─────────────────┤\n",
       "│ dense_9 (<span style=\"color: #0087ff; text-decoration-color: #0087ff\">Dense</span>)                      │ (<span style=\"color: #00d7ff; text-decoration-color: #00d7ff\">None</span>, <span style=\"color: #00af00; text-decoration-color: #00af00\">2</span>)                   │             <span style=\"color: #00af00; text-decoration-color: #00af00\">442</span> │\n",
       "└──────────────────────────────────────┴─────────────────────────────┴─────────────────┘\n",
       "</pre>\n"
      ],
      "text/plain": [
       "┏━━━━━━━━━━━━━━━━━━━━━━━━━━━━━━━━━━━━━━┳━━━━━━━━━━━━━━━━━━━━━━━━━━━━━┳━━━━━━━━━━━━━━━━━┓\n",
       "┃\u001b[1m \u001b[0m\u001b[1mLayer (type)                        \u001b[0m\u001b[1m \u001b[0m┃\u001b[1m \u001b[0m\u001b[1mOutput Shape               \u001b[0m\u001b[1m \u001b[0m┃\u001b[1m \u001b[0m\u001b[1m        Param #\u001b[0m\u001b[1m \u001b[0m┃\n",
       "┡━━━━━━━━━━━━━━━━━━━━━━━━━━━━━━━━━━━━━━╇━━━━━━━━━━━━━━━━━━━━━━━━━━━━━╇━━━━━━━━━━━━━━━━━┩\n",
       "│ dense_8 (\u001b[38;5;33mDense\u001b[0m)                      │ (\u001b[38;5;45mNone\u001b[0m, \u001b[38;5;34m11\u001b[0m, \u001b[38;5;34m20\u001b[0m)              │              \u001b[38;5;34m40\u001b[0m │\n",
       "├──────────────────────────────────────┼─────────────────────────────┼─────────────────┤\n",
       "│ flatten_4 (\u001b[38;5;33mFlatten\u001b[0m)                  │ (\u001b[38;5;45mNone\u001b[0m, \u001b[38;5;34m220\u001b[0m)                 │               \u001b[38;5;34m0\u001b[0m │\n",
       "├──────────────────────────────────────┼─────────────────────────────┼─────────────────┤\n",
       "│ dropout_4 (\u001b[38;5;33mDropout\u001b[0m)                  │ (\u001b[38;5;45mNone\u001b[0m, \u001b[38;5;34m220\u001b[0m)                 │               \u001b[38;5;34m0\u001b[0m │\n",
       "├──────────────────────────────────────┼─────────────────────────────┼─────────────────┤\n",
       "│ dense_9 (\u001b[38;5;33mDense\u001b[0m)                      │ (\u001b[38;5;45mNone\u001b[0m, \u001b[38;5;34m2\u001b[0m)                   │             \u001b[38;5;34m442\u001b[0m │\n",
       "└──────────────────────────────────────┴─────────────────────────────┴─────────────────┘\n"
      ]
     },
     "metadata": {},
     "output_type": "display_data"
    },
    {
     "data": {
      "text/html": [
       "<pre style=\"white-space:pre;overflow-x:auto;line-height:normal;font-family:Menlo,'DejaVu Sans Mono',consolas,'Courier New',monospace\"><span style=\"font-weight: bold\"> Total params: </span><span style=\"color: #00af00; text-decoration-color: #00af00\">482</span> (1.88 KB)\n",
       "</pre>\n"
      ],
      "text/plain": [
       "\u001b[1m Total params: \u001b[0m\u001b[38;5;34m482\u001b[0m (1.88 KB)\n"
      ]
     },
     "metadata": {},
     "output_type": "display_data"
    },
    {
     "data": {
      "text/html": [
       "<pre style=\"white-space:pre;overflow-x:auto;line-height:normal;font-family:Menlo,'DejaVu Sans Mono',consolas,'Courier New',monospace\"><span style=\"font-weight: bold\"> Trainable params: </span><span style=\"color: #00af00; text-decoration-color: #00af00\">482</span> (1.88 KB)\n",
       "</pre>\n"
      ],
      "text/plain": [
       "\u001b[1m Trainable params: \u001b[0m\u001b[38;5;34m482\u001b[0m (1.88 KB)\n"
      ]
     },
     "metadata": {},
     "output_type": "display_data"
    },
    {
     "data": {
      "text/html": [
       "<pre style=\"white-space:pre;overflow-x:auto;line-height:normal;font-family:Menlo,'DejaVu Sans Mono',consolas,'Courier New',monospace\"><span style=\"font-weight: bold\"> Non-trainable params: </span><span style=\"color: #00af00; text-decoration-color: #00af00\">0</span> (0.00 B)\n",
       "</pre>\n"
      ],
      "text/plain": [
       "\u001b[1m Non-trainable params: \u001b[0m\u001b[38;5;34m0\u001b[0m (0.00 B)\n"
      ]
     },
     "metadata": {},
     "output_type": "display_data"
    }
   ],
   "source": [
    "model_r_20 = keras.Sequential(\n",
    "    [\n",
    "        keras.Input(shape=input_shape),\n",
    "        layers.Dense(20, activation=\"relu\"),\n",
    "        layers.Flatten(),\n",
    "        layers.Dropout(dropOut),\n",
    "        layers.Dense(num_classes, activation=\"softmax\"),\n",
    "    ]\n",
    ")\n",
    "\n",
    "model_r_20.summary()"
   ]
  },
  {
   "cell_type": "code",
   "execution_count": 50,
   "id": "b4d13e26-a6ae-4e49-bd7c-050bf5dbbe38",
   "metadata": {},
   "outputs": [
    {
     "name": "stdout",
     "output_type": "stream",
     "text": [
      "Epoch 1/30\n",
      "\u001b[1m103/103\u001b[0m \u001b[32m━━━━━━━━━━━━━━━━━━━━\u001b[0m\u001b[37m\u001b[0m \u001b[1m0s\u001b[0m 4ms/step - accuracy: 0.5387 - loss: 0.4546 - val_accuracy: 0.5326 - val_loss: 0.4599\n",
      "Epoch 2/30\n",
      "\u001b[1m103/103\u001b[0m \u001b[32m━━━━━━━━━━━━━━━━━━━━\u001b[0m\u001b[37m\u001b[0m \u001b[1m0s\u001b[0m 3ms/step - accuracy: 0.5623 - loss: 0.4333 - val_accuracy: 0.5675 - val_loss: 0.4260\n",
      "Epoch 3/30\n",
      "\u001b[1m103/103\u001b[0m \u001b[32m━━━━━━━━━━━━━━━━━━━━\u001b[0m\u001b[37m\u001b[0m \u001b[1m0s\u001b[0m 3ms/step - accuracy: 0.5856 - loss: 0.4094 - val_accuracy: 0.5949 - val_loss: 0.4012\n",
      "Epoch 4/30\n",
      "\u001b[1m103/103\u001b[0m \u001b[32m━━━━━━━━━━━━━━━━━━━━\u001b[0m\u001b[37m\u001b[0m \u001b[1m0s\u001b[0m 3ms/step - accuracy: 0.5959 - loss: 0.3993 - val_accuracy: 0.5894 - val_loss: 0.4076\n",
      "Epoch 5/30\n",
      "\u001b[1m103/103\u001b[0m \u001b[32m━━━━━━━━━━━━━━━━━━━━\u001b[0m\u001b[37m\u001b[0m \u001b[1m0s\u001b[0m 3ms/step - accuracy: 0.6109 - loss: 0.3853 - val_accuracy: 0.6271 - val_loss: 0.3694\n",
      "Epoch 6/30\n",
      "\u001b[1m103/103\u001b[0m \u001b[32m━━━━━━━━━━━━━━━━━━━━\u001b[0m\u001b[37m\u001b[0m \u001b[1m0s\u001b[0m 3ms/step - accuracy: 0.6280 - loss: 0.3683 - val_accuracy: 0.6758 - val_loss: 0.3227\n",
      "Epoch 7/30\n",
      "\u001b[1m103/103\u001b[0m \u001b[32m━━━━━━━━━━━━━━━━━━━━\u001b[0m\u001b[37m\u001b[0m \u001b[1m0s\u001b[0m 4ms/step - accuracy: 0.6325 - loss: 0.3644 - val_accuracy: 0.7471 - val_loss: 0.2463\n",
      "Epoch 8/30\n",
      "\u001b[1m103/103\u001b[0m \u001b[32m━━━━━━━━━━━━━━━━━━━━\u001b[0m\u001b[37m\u001b[0m \u001b[1m0s\u001b[0m 4ms/step - accuracy: 0.6353 - loss: 0.3614 - val_accuracy: 0.7087 - val_loss: 0.2854\n",
      "Epoch 9/30\n",
      "\u001b[1m103/103\u001b[0m \u001b[32m━━━━━━━━━━━━━━━━━━━━\u001b[0m\u001b[37m\u001b[0m \u001b[1m0s\u001b[0m 3ms/step - accuracy: 0.6539 - loss: 0.3433 - val_accuracy: 0.6772 - val_loss: 0.3211\n",
      "Epoch 10/30\n",
      "\u001b[1m103/103\u001b[0m \u001b[32m━━━━━━━━━━━━━━━━━━━━\u001b[0m\u001b[37m\u001b[0m \u001b[1m0s\u001b[0m 3ms/step - accuracy: 0.6734 - loss: 0.3230 - val_accuracy: 0.7162 - val_loss: 0.2795\n",
      "Epoch 11/30\n",
      "\u001b[1m103/103\u001b[0m \u001b[32m━━━━━━━━━━━━━━━━━━━━\u001b[0m\u001b[37m\u001b[0m \u001b[1m0s\u001b[0m 3ms/step - accuracy: 0.6910 - loss: 0.3055 - val_accuracy: 0.6936 - val_loss: 0.3034\n",
      "Epoch 12/30\n",
      "\u001b[1m103/103\u001b[0m \u001b[32m━━━━━━━━━━━━━━━━━━━━\u001b[0m\u001b[37m\u001b[0m \u001b[1m0s\u001b[0m 3ms/step - accuracy: 0.7006 - loss: 0.2957 - val_accuracy: 0.7457 - val_loss: 0.2498\n",
      "Epoch 13/30\n",
      "\u001b[1m103/103\u001b[0m \u001b[32m━━━━━━━━━━━━━━━━━━━━\u001b[0m\u001b[37m\u001b[0m \u001b[1m0s\u001b[0m 3ms/step - accuracy: 0.7193 - loss: 0.2775 - val_accuracy: 0.7306 - val_loss: 0.2669\n",
      "Epoch 14/30\n",
      "\u001b[1m103/103\u001b[0m \u001b[32m━━━━━━━━━━━━━━━━━━━━\u001b[0m\u001b[37m\u001b[0m \u001b[1m0s\u001b[0m 3ms/step - accuracy: 0.7346 - loss: 0.2623 - val_accuracy: 0.7546 - val_loss: 0.2393\n",
      "Epoch 15/30\n",
      "\u001b[1m103/103\u001b[0m \u001b[32m━━━━━━━━━━━━━━━━━━━━\u001b[0m\u001b[37m\u001b[0m \u001b[1m0s\u001b[0m 4ms/step - accuracy: 0.7433 - loss: 0.2528 - val_accuracy: 0.8101 - val_loss: 0.1858\n",
      "Epoch 16/30\n",
      "\u001b[1m103/103\u001b[0m \u001b[32m━━━━━━━━━━━━━━━━━━━━\u001b[0m\u001b[37m\u001b[0m \u001b[1m0s\u001b[0m 4ms/step - accuracy: 0.7355 - loss: 0.2610 - val_accuracy: 0.8101 - val_loss: 0.1895\n",
      "Epoch 17/30\n",
      "\u001b[1m103/103\u001b[0m \u001b[32m━━━━━━━━━━━━━━━━━━━━\u001b[0m\u001b[37m\u001b[0m \u001b[1m0s\u001b[0m 3ms/step - accuracy: 0.7597 - loss: 0.2368 - val_accuracy: 0.8115 - val_loss: 0.1859\n",
      "Epoch 18/30\n",
      "\u001b[1m103/103\u001b[0m \u001b[32m━━━━━━━━━━━━━━━━━━━━\u001b[0m\u001b[37m\u001b[0m \u001b[1m0s\u001b[0m 4ms/step - accuracy: 0.7592 - loss: 0.2364 - val_accuracy: 0.7443 - val_loss: 0.2508\n",
      "Epoch 19/30\n",
      "\u001b[1m103/103\u001b[0m \u001b[32m━━━━━━━━━━━━━━━━━━━━\u001b[0m\u001b[37m\u001b[0m \u001b[1m0s\u001b[0m 3ms/step - accuracy: 0.7623 - loss: 0.2337 - val_accuracy: 0.8239 - val_loss: 0.1707\n",
      "Epoch 20/30\n",
      "\u001b[1m103/103\u001b[0m \u001b[32m━━━━━━━━━━━━━━━━━━━━\u001b[0m\u001b[37m\u001b[0m \u001b[1m0s\u001b[0m 3ms/step - accuracy: 0.7720 - loss: 0.2239 - val_accuracy: 0.7820 - val_loss: 0.2158\n",
      "Epoch 21/30\n",
      "\u001b[1m103/103\u001b[0m \u001b[32m━━━━━━━━━━━━━━━━━━━━\u001b[0m\u001b[37m\u001b[0m \u001b[1m0s\u001b[0m 3ms/step - accuracy: 0.7684 - loss: 0.2278 - val_accuracy: 0.8204 - val_loss: 0.1766\n",
      "Epoch 22/30\n",
      "\u001b[1m103/103\u001b[0m \u001b[32m━━━━━━━━━━━━━━━━━━━━\u001b[0m\u001b[37m\u001b[0m \u001b[1m0s\u001b[0m 3ms/step - accuracy: 0.7770 - loss: 0.2192 - val_accuracy: 0.8280 - val_loss: 0.1680\n",
      "Epoch 23/30\n",
      "\u001b[1m103/103\u001b[0m \u001b[32m━━━━━━━━━━━━━━━━━━━━\u001b[0m\u001b[37m\u001b[0m \u001b[1m0s\u001b[0m 3ms/step - accuracy: 0.7931 - loss: 0.2038 - val_accuracy: 0.7923 - val_loss: 0.2036\n",
      "Epoch 24/30\n",
      "\u001b[1m103/103\u001b[0m \u001b[32m━━━━━━━━━━━━━━━━━━━━\u001b[0m\u001b[37m\u001b[0m \u001b[1m0s\u001b[0m 3ms/step - accuracy: 0.7966 - loss: 0.1998 - val_accuracy: 0.7361 - val_loss: 0.2615\n",
      "Epoch 25/30\n",
      "\u001b[1m103/103\u001b[0m \u001b[32m━━━━━━━━━━━━━━━━━━━━\u001b[0m\u001b[37m\u001b[0m \u001b[1m0s\u001b[0m 4ms/step - accuracy: 0.7406 - loss: 0.2563 - val_accuracy: 0.8341 - val_loss: 0.1639\n",
      "Epoch 26/30\n",
      "\u001b[1m103/103\u001b[0m \u001b[32m━━━━━━━━━━━━━━━━━━━━\u001b[0m\u001b[37m\u001b[0m \u001b[1m0s\u001b[0m 4ms/step - accuracy: 0.7803 - loss: 0.2153 - val_accuracy: 0.8321 - val_loss: 0.1660\n",
      "Epoch 27/30\n",
      "\u001b[1m103/103\u001b[0m \u001b[32m━━━━━━━━━━━━━━━━━━━━\u001b[0m\u001b[37m\u001b[0m \u001b[1m0s\u001b[0m 4ms/step - accuracy: 0.7760 - loss: 0.2195 - val_accuracy: 0.7916 - val_loss: 0.2029\n",
      "Epoch 28/30\n",
      "\u001b[1m103/103\u001b[0m \u001b[32m━━━━━━━━━━━━━━━━━━━━\u001b[0m\u001b[37m\u001b[0m \u001b[1m0s\u001b[0m 4ms/step - accuracy: 0.7914 - loss: 0.2056 - val_accuracy: 0.8218 - val_loss: 0.1746\n",
      "Epoch 29/30\n",
      "\u001b[1m103/103\u001b[0m \u001b[32m━━━━━━━━━━━━━━━━━━━━\u001b[0m\u001b[37m\u001b[0m \u001b[1m0s\u001b[0m 4ms/step - accuracy: 0.7919 - loss: 0.2041 - val_accuracy: 0.8314 - val_loss: 0.1651\n",
      "Epoch 30/30\n",
      "\u001b[1m103/103\u001b[0m \u001b[32m━━━━━━━━━━━━━━━━━━━━\u001b[0m\u001b[37m\u001b[0m \u001b[1m0s\u001b[0m 4ms/step - accuracy: 0.8100 - loss: 0.1859 - val_accuracy: 0.7978 - val_loss: 0.1975\n"
     ]
    },
    {
     "data": {
      "text/plain": [
       "<keras.src.callbacks.history.History at 0x271eb8c9f70>"
      ]
     },
     "execution_count": 50,
     "metadata": {},
     "output_type": "execute_result"
    }
   ],
   "source": [
    "model_r_20.compile(loss=\"mean_squared_error\", optimizer=\"adam\", \n",
    "              metrics=[\"accuracy\"])\n",
    "\n",
    "model_r_20.fit(numpy_x_resampled_train, numpy_y_resampled_train, batch_size=batch_size, \n",
    "          epochs=epochs, validation_split=0.1)"
   ]
  },
  {
   "cell_type": "code",
   "execution_count": 51,
   "id": "03e4f97c-810d-4d63-b534-0a11874a2d8a",
   "metadata": {},
   "outputs": [
    {
     "name": "stdout",
     "output_type": "stream",
     "text": [
      "\u001b[1m196/196\u001b[0m \u001b[32m━━━━━━━━━━━━━━━━━━━━\u001b[0m\u001b[37m\u001b[0m \u001b[1m0s\u001b[0m 1ms/step\n"
     ]
    }
   ],
   "source": [
    "predicted_r_20 = model_r_20.predict(numpy_x_resampled_test)"
   ]
  },
  {
   "cell_type": "code",
   "execution_count": 52,
   "id": "bbea4ec0-1fbb-4595-a26f-cfb855a5105e",
   "metadata": {},
   "outputs": [
    {
     "name": "stdout",
     "output_type": "stream",
     "text": [
      "true negative:  2279\n",
      "false positive:  844\n",
      "false negative:  406\n",
      "true positive:  2725\n",
      "20 layers:\n",
      "Accuracy:  0.8001279181323953\n",
      "True-positive rate:  0.7635191930512749\n",
      "True-negative rate:  0.8487895716945997\n",
      "F1 Score:  0.8134328358208955\n"
     ]
    }
   ],
   "source": [
    "acc_r_20, tpr_r_20, tnr_r_20, f1_r_20 = genResults(numpy_y_resampled_test, predicted_r_20)\n",
    "\n",
    "print(\"20 layers:\")\n",
    "print(\"Accuracy: \", acc_r_20)\n",
    "print(\"True-positive rate: \", tpr_r_20)\n",
    "print(\"True-negative rate: \", tnr_r_20)\n",
    "print(\"F1 Score: \", f1_r_20)"
   ]
  },
  {
   "cell_type": "code",
   "execution_count": 53,
   "id": "0d5cc9d9-15c3-45d5-8728-54b33315bfa6",
   "metadata": {},
   "outputs": [
    {
     "data": {
      "text/html": [
       "<pre style=\"white-space:pre;overflow-x:auto;line-height:normal;font-family:Menlo,'DejaVu Sans Mono',consolas,'Courier New',monospace\"><span style=\"font-weight: bold\">Model: \"sequential_5\"</span>\n",
       "</pre>\n"
      ],
      "text/plain": [
       "\u001b[1mModel: \"sequential_5\"\u001b[0m\n"
      ]
     },
     "metadata": {},
     "output_type": "display_data"
    },
    {
     "data": {
      "text/html": [
       "<pre style=\"white-space:pre;overflow-x:auto;line-height:normal;font-family:Menlo,'DejaVu Sans Mono',consolas,'Courier New',monospace\">┏━━━━━━━━━━━━━━━━━━━━━━━━━━━━━━━━━━━━━━┳━━━━━━━━━━━━━━━━━━━━━━━━━━━━━┳━━━━━━━━━━━━━━━━━┓\n",
       "┃<span style=\"font-weight: bold\"> Layer (type)                         </span>┃<span style=\"font-weight: bold\"> Output Shape                </span>┃<span style=\"font-weight: bold\">         Param # </span>┃\n",
       "┡━━━━━━━━━━━━━━━━━━━━━━━━━━━━━━━━━━━━━━╇━━━━━━━━━━━━━━━━━━━━━━━━━━━━━╇━━━━━━━━━━━━━━━━━┩\n",
       "│ dense_10 (<span style=\"color: #0087ff; text-decoration-color: #0087ff\">Dense</span>)                     │ (<span style=\"color: #00d7ff; text-decoration-color: #00d7ff\">None</span>, <span style=\"color: #00af00; text-decoration-color: #00af00\">11</span>, <span style=\"color: #00af00; text-decoration-color: #00af00\">40</span>)              │              <span style=\"color: #00af00; text-decoration-color: #00af00\">80</span> │\n",
       "├──────────────────────────────────────┼─────────────────────────────┼─────────────────┤\n",
       "│ flatten_5 (<span style=\"color: #0087ff; text-decoration-color: #0087ff\">Flatten</span>)                  │ (<span style=\"color: #00d7ff; text-decoration-color: #00d7ff\">None</span>, <span style=\"color: #00af00; text-decoration-color: #00af00\">440</span>)                 │               <span style=\"color: #00af00; text-decoration-color: #00af00\">0</span> │\n",
       "├──────────────────────────────────────┼─────────────────────────────┼─────────────────┤\n",
       "│ dropout_5 (<span style=\"color: #0087ff; text-decoration-color: #0087ff\">Dropout</span>)                  │ (<span style=\"color: #00d7ff; text-decoration-color: #00d7ff\">None</span>, <span style=\"color: #00af00; text-decoration-color: #00af00\">440</span>)                 │               <span style=\"color: #00af00; text-decoration-color: #00af00\">0</span> │\n",
       "├──────────────────────────────────────┼─────────────────────────────┼─────────────────┤\n",
       "│ dense_11 (<span style=\"color: #0087ff; text-decoration-color: #0087ff\">Dense</span>)                     │ (<span style=\"color: #00d7ff; text-decoration-color: #00d7ff\">None</span>, <span style=\"color: #00af00; text-decoration-color: #00af00\">2</span>)                   │             <span style=\"color: #00af00; text-decoration-color: #00af00\">882</span> │\n",
       "└──────────────────────────────────────┴─────────────────────────────┴─────────────────┘\n",
       "</pre>\n"
      ],
      "text/plain": [
       "┏━━━━━━━━━━━━━━━━━━━━━━━━━━━━━━━━━━━━━━┳━━━━━━━━━━━━━━━━━━━━━━━━━━━━━┳━━━━━━━━━━━━━━━━━┓\n",
       "┃\u001b[1m \u001b[0m\u001b[1mLayer (type)                        \u001b[0m\u001b[1m \u001b[0m┃\u001b[1m \u001b[0m\u001b[1mOutput Shape               \u001b[0m\u001b[1m \u001b[0m┃\u001b[1m \u001b[0m\u001b[1m        Param #\u001b[0m\u001b[1m \u001b[0m┃\n",
       "┡━━━━━━━━━━━━━━━━━━━━━━━━━━━━━━━━━━━━━━╇━━━━━━━━━━━━━━━━━━━━━━━━━━━━━╇━━━━━━━━━━━━━━━━━┩\n",
       "│ dense_10 (\u001b[38;5;33mDense\u001b[0m)                     │ (\u001b[38;5;45mNone\u001b[0m, \u001b[38;5;34m11\u001b[0m, \u001b[38;5;34m40\u001b[0m)              │              \u001b[38;5;34m80\u001b[0m │\n",
       "├──────────────────────────────────────┼─────────────────────────────┼─────────────────┤\n",
       "│ flatten_5 (\u001b[38;5;33mFlatten\u001b[0m)                  │ (\u001b[38;5;45mNone\u001b[0m, \u001b[38;5;34m440\u001b[0m)                 │               \u001b[38;5;34m0\u001b[0m │\n",
       "├──────────────────────────────────────┼─────────────────────────────┼─────────────────┤\n",
       "│ dropout_5 (\u001b[38;5;33mDropout\u001b[0m)                  │ (\u001b[38;5;45mNone\u001b[0m, \u001b[38;5;34m440\u001b[0m)                 │               \u001b[38;5;34m0\u001b[0m │\n",
       "├──────────────────────────────────────┼─────────────────────────────┼─────────────────┤\n",
       "│ dense_11 (\u001b[38;5;33mDense\u001b[0m)                     │ (\u001b[38;5;45mNone\u001b[0m, \u001b[38;5;34m2\u001b[0m)                   │             \u001b[38;5;34m882\u001b[0m │\n",
       "└──────────────────────────────────────┴─────────────────────────────┴─────────────────┘\n"
      ]
     },
     "metadata": {},
     "output_type": "display_data"
    },
    {
     "data": {
      "text/html": [
       "<pre style=\"white-space:pre;overflow-x:auto;line-height:normal;font-family:Menlo,'DejaVu Sans Mono',consolas,'Courier New',monospace\"><span style=\"font-weight: bold\"> Total params: </span><span style=\"color: #00af00; text-decoration-color: #00af00\">962</span> (3.76 KB)\n",
       "</pre>\n"
      ],
      "text/plain": [
       "\u001b[1m Total params: \u001b[0m\u001b[38;5;34m962\u001b[0m (3.76 KB)\n"
      ]
     },
     "metadata": {},
     "output_type": "display_data"
    },
    {
     "data": {
      "text/html": [
       "<pre style=\"white-space:pre;overflow-x:auto;line-height:normal;font-family:Menlo,'DejaVu Sans Mono',consolas,'Courier New',monospace\"><span style=\"font-weight: bold\"> Trainable params: </span><span style=\"color: #00af00; text-decoration-color: #00af00\">962</span> (3.76 KB)\n",
       "</pre>\n"
      ],
      "text/plain": [
       "\u001b[1m Trainable params: \u001b[0m\u001b[38;5;34m962\u001b[0m (3.76 KB)\n"
      ]
     },
     "metadata": {},
     "output_type": "display_data"
    },
    {
     "data": {
      "text/html": [
       "<pre style=\"white-space:pre;overflow-x:auto;line-height:normal;font-family:Menlo,'DejaVu Sans Mono',consolas,'Courier New',monospace\"><span style=\"font-weight: bold\"> Non-trainable params: </span><span style=\"color: #00af00; text-decoration-color: #00af00\">0</span> (0.00 B)\n",
       "</pre>\n"
      ],
      "text/plain": [
       "\u001b[1m Non-trainable params: \u001b[0m\u001b[38;5;34m0\u001b[0m (0.00 B)\n"
      ]
     },
     "metadata": {},
     "output_type": "display_data"
    }
   ],
   "source": [
    "model_r_40 = keras.Sequential(\n",
    "    [\n",
    "        keras.Input(shape=input_shape),\n",
    "        layers.Dense(40, activation=\"relu\"),\n",
    "        layers.Flatten(),\n",
    "        layers.Dropout(dropOut),\n",
    "        layers.Dense(num_classes, activation=\"softmax\"),\n",
    "    ]\n",
    ")\n",
    "\n",
    "model_r_40.summary()"
   ]
  },
  {
   "cell_type": "code",
   "execution_count": 54,
   "id": "f497edfa-7830-45bc-8920-a28257b2da4e",
   "metadata": {},
   "outputs": [
    {
     "name": "stdout",
     "output_type": "stream",
     "text": [
      "Epoch 1/30\n",
      "\u001b[1m103/103\u001b[0m \u001b[32m━━━━━━━━━━━━━━━━━━━━\u001b[0m\u001b[37m\u001b[0m \u001b[1m0s\u001b[0m 4ms/step - accuracy: 0.5143 - loss: 0.4702 - val_accuracy: 0.5689 - val_loss: 0.4152\n",
      "Epoch 2/30\n",
      "\u001b[1m103/103\u001b[0m \u001b[32m━━━━━━━━━━━━━━━━━━━━\u001b[0m\u001b[37m\u001b[0m \u001b[1m0s\u001b[0m 4ms/step - accuracy: 0.5818 - loss: 0.4081 - val_accuracy: 0.6840 - val_loss: 0.3006\n",
      "Epoch 3/30\n",
      "\u001b[1m103/103\u001b[0m \u001b[32m━━━━━━━━━━━━━━━━━━━━\u001b[0m\u001b[37m\u001b[0m \u001b[1m0s\u001b[0m 4ms/step - accuracy: 0.6193 - loss: 0.3739 - val_accuracy: 0.5908 - val_loss: 0.4039\n",
      "Epoch 4/30\n",
      "\u001b[1m103/103\u001b[0m \u001b[32m━━━━━━━━━━━━━━━━━━━━\u001b[0m\u001b[37m\u001b[0m \u001b[1m0s\u001b[0m 4ms/step - accuracy: 0.6359 - loss: 0.3574 - val_accuracy: 0.6388 - val_loss: 0.3563\n",
      "Epoch 5/30\n",
      "\u001b[1m103/103\u001b[0m \u001b[32m━━━━━━━━━━━━━━━━━━━━\u001b[0m\u001b[37m\u001b[0m \u001b[1m0s\u001b[0m 4ms/step - accuracy: 0.6768 - loss: 0.3176 - val_accuracy: 0.6936 - val_loss: 0.2986\n",
      "Epoch 6/30\n",
      "\u001b[1m103/103\u001b[0m \u001b[32m━━━━━━━━━━━━━━━━━━━━\u001b[0m\u001b[37m\u001b[0m \u001b[1m0s\u001b[0m 4ms/step - accuracy: 0.6937 - loss: 0.3008 - val_accuracy: 0.7786 - val_loss: 0.2113\n",
      "Epoch 7/30\n",
      "\u001b[1m103/103\u001b[0m \u001b[32m━━━━━━━━━━━━━━━━━━━━\u001b[0m\u001b[37m\u001b[0m \u001b[1m0s\u001b[0m 4ms/step - accuracy: 0.7302 - loss: 0.2642 - val_accuracy: 0.7505 - val_loss: 0.2449\n",
      "Epoch 8/30\n",
      "\u001b[1m103/103\u001b[0m \u001b[32m━━━━━━━━━━━━━━━━━━━━\u001b[0m\u001b[37m\u001b[0m \u001b[1m0s\u001b[0m 4ms/step - accuracy: 0.7374 - loss: 0.2567 - val_accuracy: 0.7985 - val_loss: 0.1960\n",
      "Epoch 9/30\n",
      "\u001b[1m103/103\u001b[0m \u001b[32m━━━━━━━━━━━━━━━━━━━━\u001b[0m\u001b[37m\u001b[0m \u001b[1m0s\u001b[0m 4ms/step - accuracy: 0.7443 - loss: 0.2511 - val_accuracy: 0.7786 - val_loss: 0.2177\n",
      "Epoch 10/30\n",
      "\u001b[1m103/103\u001b[0m \u001b[32m━━━━━━━━━━━━━━━━━━━━\u001b[0m\u001b[37m\u001b[0m \u001b[1m0s\u001b[0m 3ms/step - accuracy: 0.7527 - loss: 0.2426 - val_accuracy: 0.6936 - val_loss: 0.3016\n",
      "Epoch 11/30\n",
      "\u001b[1m103/103\u001b[0m \u001b[32m━━━━━━━━━━━━━━━━━━━━\u001b[0m\u001b[37m\u001b[0m \u001b[1m0s\u001b[0m 3ms/step - accuracy: 0.7503 - loss: 0.2449 - val_accuracy: 0.8019 - val_loss: 0.1926\n",
      "Epoch 12/30\n",
      "\u001b[1m103/103\u001b[0m \u001b[32m━━━━━━━━━━━━━━━━━━━━\u001b[0m\u001b[37m\u001b[0m \u001b[1m0s\u001b[0m 3ms/step - accuracy: 0.7767 - loss: 0.2169 - val_accuracy: 0.8101 - val_loss: 0.1819\n",
      "Epoch 13/30\n",
      "\u001b[1m103/103\u001b[0m \u001b[32m━━━━━━━━━━━━━━━━━━━━\u001b[0m\u001b[37m\u001b[0m \u001b[1m0s\u001b[0m 4ms/step - accuracy: 0.7900 - loss: 0.2046 - val_accuracy: 0.8280 - val_loss: 0.1670\n",
      "Epoch 14/30\n",
      "\u001b[1m103/103\u001b[0m \u001b[32m━━━━━━━━━━━━━━━━━━━━\u001b[0m\u001b[37m\u001b[0m \u001b[1m0s\u001b[0m 3ms/step - accuracy: 0.7850 - loss: 0.2098 - val_accuracy: 0.7272 - val_loss: 0.2670\n",
      "Epoch 15/30\n",
      "\u001b[1m103/103\u001b[0m \u001b[32m━━━━━━━━━━━━━━━━━━━━\u001b[0m\u001b[37m\u001b[0m \u001b[1m0s\u001b[0m 4ms/step - accuracy: 0.7430 - loss: 0.2521 - val_accuracy: 0.8307 - val_loss: 0.1658\n",
      "Epoch 16/30\n",
      "\u001b[1m103/103\u001b[0m \u001b[32m━━━━━━━━━━━━━━━━━━━━\u001b[0m\u001b[37m\u001b[0m \u001b[1m0s\u001b[0m 4ms/step - accuracy: 0.7802 - loss: 0.2157 - val_accuracy: 0.8328 - val_loss: 0.1628\n",
      "Epoch 17/30\n",
      "\u001b[1m103/103\u001b[0m \u001b[32m━━━━━━━━━━━━━━━━━━━━\u001b[0m\u001b[37m\u001b[0m \u001b[1m0s\u001b[0m 4ms/step - accuracy: 0.7914 - loss: 0.2044 - val_accuracy: 0.7862 - val_loss: 0.2094\n",
      "Epoch 18/30\n",
      "\u001b[1m103/103\u001b[0m \u001b[32m━━━━━━━━━━━━━━━━━━━━\u001b[0m\u001b[37m\u001b[0m \u001b[1m0s\u001b[0m 4ms/step - accuracy: 0.7813 - loss: 0.2124 - val_accuracy: 0.8170 - val_loss: 0.1773\n",
      "Epoch 19/30\n",
      "\u001b[1m103/103\u001b[0m \u001b[32m━━━━━━━━━━━━━━━━━━━━\u001b[0m\u001b[37m\u001b[0m \u001b[1m0s\u001b[0m 3ms/step - accuracy: 0.7992 - loss: 0.1961 - val_accuracy: 0.8081 - val_loss: 0.1871\n",
      "Epoch 20/30\n",
      "\u001b[1m103/103\u001b[0m \u001b[32m━━━━━━━━━━━━━━━━━━━━\u001b[0m\u001b[37m\u001b[0m \u001b[1m0s\u001b[0m 3ms/step - accuracy: 0.7957 - loss: 0.2004 - val_accuracy: 0.7745 - val_loss: 0.2173\n",
      "Epoch 21/30\n",
      "\u001b[1m103/103\u001b[0m \u001b[32m━━━━━━━━━━━━━━━━━━━━\u001b[0m\u001b[37m\u001b[0m \u001b[1m0s\u001b[0m 3ms/step - accuracy: 0.7867 - loss: 0.2074 - val_accuracy: 0.8074 - val_loss: 0.1873\n",
      "Epoch 22/30\n",
      "\u001b[1m103/103\u001b[0m \u001b[32m━━━━━━━━━━━━━━━━━━━━\u001b[0m\u001b[37m\u001b[0m \u001b[1m0s\u001b[0m 4ms/step - accuracy: 0.8055 - loss: 0.1901 - val_accuracy: 0.8341 - val_loss: 0.1614\n",
      "Epoch 23/30\n",
      "\u001b[1m103/103\u001b[0m \u001b[32m━━━━━━━━━━━━━━━━━━━━\u001b[0m\u001b[37m\u001b[0m \u001b[1m0s\u001b[0m 3ms/step - accuracy: 0.7815 - loss: 0.2136 - val_accuracy: 0.8307 - val_loss: 0.1656\n",
      "Epoch 24/30\n",
      "\u001b[1m103/103\u001b[0m \u001b[32m━━━━━━━━━━━━━━━━━━━━\u001b[0m\u001b[37m\u001b[0m \u001b[1m0s\u001b[0m 3ms/step - accuracy: 0.7945 - loss: 0.2010 - val_accuracy: 0.8163 - val_loss: 0.1823\n",
      "Epoch 25/30\n",
      "\u001b[1m103/103\u001b[0m \u001b[32m━━━━━━━━━━━━━━━━━━━━\u001b[0m\u001b[37m\u001b[0m \u001b[1m0s\u001b[0m 3ms/step - accuracy: 0.7918 - loss: 0.2023 - val_accuracy: 0.7827 - val_loss: 0.2117\n",
      "Epoch 26/30\n",
      "\u001b[1m103/103\u001b[0m \u001b[32m━━━━━━━━━━━━━━━━━━━━\u001b[0m\u001b[37m\u001b[0m \u001b[1m0s\u001b[0m 3ms/step - accuracy: 0.7802 - loss: 0.2151 - val_accuracy: 0.8334 - val_loss: 0.1635\n",
      "Epoch 27/30\n",
      "\u001b[1m103/103\u001b[0m \u001b[32m━━━━━━━━━━━━━━━━━━━━\u001b[0m\u001b[37m\u001b[0m \u001b[1m0s\u001b[0m 4ms/step - accuracy: 0.8010 - loss: 0.1940 - val_accuracy: 0.8341 - val_loss: 0.1598\n",
      "Epoch 28/30\n",
      "\u001b[1m103/103\u001b[0m \u001b[32m━━━━━━━━━━━━━━━━━━━━\u001b[0m\u001b[37m\u001b[0m \u001b[1m0s\u001b[0m 4ms/step - accuracy: 0.8104 - loss: 0.1849 - val_accuracy: 0.8163 - val_loss: 0.1812\n",
      "Epoch 29/30\n",
      "\u001b[1m103/103\u001b[0m \u001b[32m━━━━━━━━━━━━━━━━━━━━\u001b[0m\u001b[37m\u001b[0m \u001b[1m0s\u001b[0m 3ms/step - accuracy: 0.7822 - loss: 0.2147 - val_accuracy: 0.8362 - val_loss: 0.1587\n",
      "Epoch 30/30\n",
      "\u001b[1m103/103\u001b[0m \u001b[32m━━━━━━━━━━━━━━━━━━━━\u001b[0m\u001b[37m\u001b[0m \u001b[1m0s\u001b[0m 3ms/step - accuracy: 0.8029 - loss: 0.1932 - val_accuracy: 0.8108 - val_loss: 0.1857\n"
     ]
    },
    {
     "data": {
      "text/plain": [
       "<keras.src.callbacks.history.History at 0x271ec2fd940>"
      ]
     },
     "execution_count": 54,
     "metadata": {},
     "output_type": "execute_result"
    }
   ],
   "source": [
    "model_r_40.compile(loss=\"mean_squared_error\", optimizer=\"adam\", \n",
    "              metrics=[\"accuracy\"])\n",
    "\n",
    "model_r_40.fit(numpy_x_resampled_train, numpy_y_resampled_train, batch_size=batch_size, \n",
    "          epochs=epochs, validation_split=0.1)"
   ]
  },
  {
   "cell_type": "code",
   "execution_count": 55,
   "id": "67bbf212-e706-4223-ae59-42886bbea930",
   "metadata": {},
   "outputs": [
    {
     "name": "stdout",
     "output_type": "stream",
     "text": [
      "\u001b[1m196/196\u001b[0m \u001b[32m━━━━━━━━━━━━━━━━━━━━\u001b[0m\u001b[37m\u001b[0m \u001b[1m0s\u001b[0m 1ms/step\n"
     ]
    }
   ],
   "source": [
    "predicted_r_40 = model_r_40.predict(numpy_x_resampled_test)"
   ]
  },
  {
   "cell_type": "code",
   "execution_count": 56,
   "id": "89b8e425-4941-4754-915b-a6da14013fa3",
   "metadata": {},
   "outputs": [
    {
     "name": "stdout",
     "output_type": "stream",
     "text": [
      "true negative:  2339\n",
      "false positive:  784\n",
      "false negative:  410\n",
      "true positive:  2721\n",
      "40 layers:\n",
      "Accuracy:  0.809082187400064\n",
      "True-positive rate:  0.7763195435092725\n",
      "True-negative rate:  0.8508548563113859\n",
      "F1 Score:  0.8200723327305606\n"
     ]
    }
   ],
   "source": [
    "acc_r_40, tpr_r_40, tnr_r_40, f1_r_40 = genResults(numpy_y_resampled_test, predicted_r_40)\n",
    "\n",
    "print(\"40 layers:\")\n",
    "print(\"Accuracy: \", acc_r_40)\n",
    "print(\"True-positive rate: \", tpr_r_40)\n",
    "print(\"True-negative rate: \", tnr_r_40)\n",
    "print(\"F1 Score: \", f1_r_40)"
   ]
  },
  {
   "cell_type": "code",
   "execution_count": 57,
   "id": "55b48978-5f35-43c0-8e5f-c75488e35e11",
   "metadata": {},
   "outputs": [
    {
     "name": "stdout",
     "output_type": "stream",
     "text": [
      "x_train shape: (6253, 11, 1)\n",
      "6253 train samples\n",
      "14591 test samples\n",
      "y_train shape:  (6253, 2)\n"
     ]
    }
   ],
   "source": [
    "# Now we need to repeat it all - starting with 20 nodes I think, but with a much smaller fraction\n",
    "small_x_resampled_train, small_x_resampled_test, small_y_resampled_train, small_y_resampled_test = train_test_split(\n",
    "    df_copy_x_resampled, df_copy_y_resampled, test_size=0.7, random_state=42)\n",
    "\n",
    "numpy_small_x_train = small_x_resampled_train.to_numpy()\n",
    "numpy_small_x_test = small_x_resampled_test.to_numpy()\n",
    "numpy_small_y_train = small_y_resampled_train.to_numpy()\n",
    "numpy_small_y_test = small_y_resampled_test.to_numpy()\n",
    "\n",
    "num_classes = 2\n",
    "\n",
    "# input_shape = (2, 1)\n",
    "\n",
    "# Make sure images have shape (11, 1)\n",
    "numpy_small_x_train = np.expand_dims(numpy_small_x_train, -1)\n",
    "numpy_small_x_test = np.expand_dims(numpy_small_x_test, -1)\n",
    "print(\"x_train shape:\", numpy_small_x_train.shape)\n",
    "print(numpy_small_x_train.shape[0], \"train samples\")\n",
    "print(numpy_small_x_test.shape[0], \"test samples\")\n",
    "\n",
    "# convert class vectors to binary class matrices\n",
    "numpy_small_y_train = keras.utils.to_categorical(numpy_small_y_train, num_classes)\n",
    "numpy_small_y_test = keras.utils.to_categorical(numpy_small_y_test, num_classes)\n",
    "\n",
    "print(\"y_train shape: \", numpy_small_y_train.shape)"
   ]
  },
  {
   "cell_type": "code",
   "execution_count": 58,
   "id": "c3546f99-a8b3-42fb-b2b4-56aed4e2723d",
   "metadata": {},
   "outputs": [
    {
     "data": {
      "text/html": [
       "<pre style=\"white-space:pre;overflow-x:auto;line-height:normal;font-family:Menlo,'DejaVu Sans Mono',consolas,'Courier New',monospace\"><span style=\"font-weight: bold\">Model: \"sequential_6\"</span>\n",
       "</pre>\n"
      ],
      "text/plain": [
       "\u001b[1mModel: \"sequential_6\"\u001b[0m\n"
      ]
     },
     "metadata": {},
     "output_type": "display_data"
    },
    {
     "data": {
      "text/html": [
       "<pre style=\"white-space:pre;overflow-x:auto;line-height:normal;font-family:Menlo,'DejaVu Sans Mono',consolas,'Courier New',monospace\">┏━━━━━━━━━━━━━━━━━━━━━━━━━━━━━━━━━━━━━━┳━━━━━━━━━━━━━━━━━━━━━━━━━━━━━┳━━━━━━━━━━━━━━━━━┓\n",
       "┃<span style=\"font-weight: bold\"> Layer (type)                         </span>┃<span style=\"font-weight: bold\"> Output Shape                </span>┃<span style=\"font-weight: bold\">         Param # </span>┃\n",
       "┡━━━━━━━━━━━━━━━━━━━━━━━━━━━━━━━━━━━━━━╇━━━━━━━━━━━━━━━━━━━━━━━━━━━━━╇━━━━━━━━━━━━━━━━━┩\n",
       "│ dense_12 (<span style=\"color: #0087ff; text-decoration-color: #0087ff\">Dense</span>)                     │ (<span style=\"color: #00d7ff; text-decoration-color: #00d7ff\">None</span>, <span style=\"color: #00af00; text-decoration-color: #00af00\">11</span>, <span style=\"color: #00af00; text-decoration-color: #00af00\">20</span>)              │              <span style=\"color: #00af00; text-decoration-color: #00af00\">40</span> │\n",
       "├──────────────────────────────────────┼─────────────────────────────┼─────────────────┤\n",
       "│ flatten_6 (<span style=\"color: #0087ff; text-decoration-color: #0087ff\">Flatten</span>)                  │ (<span style=\"color: #00d7ff; text-decoration-color: #00d7ff\">None</span>, <span style=\"color: #00af00; text-decoration-color: #00af00\">220</span>)                 │               <span style=\"color: #00af00; text-decoration-color: #00af00\">0</span> │\n",
       "├──────────────────────────────────────┼─────────────────────────────┼─────────────────┤\n",
       "│ dropout_6 (<span style=\"color: #0087ff; text-decoration-color: #0087ff\">Dropout</span>)                  │ (<span style=\"color: #00d7ff; text-decoration-color: #00d7ff\">None</span>, <span style=\"color: #00af00; text-decoration-color: #00af00\">220</span>)                 │               <span style=\"color: #00af00; text-decoration-color: #00af00\">0</span> │\n",
       "├──────────────────────────────────────┼─────────────────────────────┼─────────────────┤\n",
       "│ dense_13 (<span style=\"color: #0087ff; text-decoration-color: #0087ff\">Dense</span>)                     │ (<span style=\"color: #00d7ff; text-decoration-color: #00d7ff\">None</span>, <span style=\"color: #00af00; text-decoration-color: #00af00\">2</span>)                   │             <span style=\"color: #00af00; text-decoration-color: #00af00\">442</span> │\n",
       "└──────────────────────────────────────┴─────────────────────────────┴─────────────────┘\n",
       "</pre>\n"
      ],
      "text/plain": [
       "┏━━━━━━━━━━━━━━━━━━━━━━━━━━━━━━━━━━━━━━┳━━━━━━━━━━━━━━━━━━━━━━━━━━━━━┳━━━━━━━━━━━━━━━━━┓\n",
       "┃\u001b[1m \u001b[0m\u001b[1mLayer (type)                        \u001b[0m\u001b[1m \u001b[0m┃\u001b[1m \u001b[0m\u001b[1mOutput Shape               \u001b[0m\u001b[1m \u001b[0m┃\u001b[1m \u001b[0m\u001b[1m        Param #\u001b[0m\u001b[1m \u001b[0m┃\n",
       "┡━━━━━━━━━━━━━━━━━━━━━━━━━━━━━━━━━━━━━━╇━━━━━━━━━━━━━━━━━━━━━━━━━━━━━╇━━━━━━━━━━━━━━━━━┩\n",
       "│ dense_12 (\u001b[38;5;33mDense\u001b[0m)                     │ (\u001b[38;5;45mNone\u001b[0m, \u001b[38;5;34m11\u001b[0m, \u001b[38;5;34m20\u001b[0m)              │              \u001b[38;5;34m40\u001b[0m │\n",
       "├──────────────────────────────────────┼─────────────────────────────┼─────────────────┤\n",
       "│ flatten_6 (\u001b[38;5;33mFlatten\u001b[0m)                  │ (\u001b[38;5;45mNone\u001b[0m, \u001b[38;5;34m220\u001b[0m)                 │               \u001b[38;5;34m0\u001b[0m │\n",
       "├──────────────────────────────────────┼─────────────────────────────┼─────────────────┤\n",
       "│ dropout_6 (\u001b[38;5;33mDropout\u001b[0m)                  │ (\u001b[38;5;45mNone\u001b[0m, \u001b[38;5;34m220\u001b[0m)                 │               \u001b[38;5;34m0\u001b[0m │\n",
       "├──────────────────────────────────────┼─────────────────────────────┼─────────────────┤\n",
       "│ dense_13 (\u001b[38;5;33mDense\u001b[0m)                     │ (\u001b[38;5;45mNone\u001b[0m, \u001b[38;5;34m2\u001b[0m)                   │             \u001b[38;5;34m442\u001b[0m │\n",
       "└──────────────────────────────────────┴─────────────────────────────┴─────────────────┘\n"
      ]
     },
     "metadata": {},
     "output_type": "display_data"
    },
    {
     "data": {
      "text/html": [
       "<pre style=\"white-space:pre;overflow-x:auto;line-height:normal;font-family:Menlo,'DejaVu Sans Mono',consolas,'Courier New',monospace\"><span style=\"font-weight: bold\"> Total params: </span><span style=\"color: #00af00; text-decoration-color: #00af00\">482</span> (1.88 KB)\n",
       "</pre>\n"
      ],
      "text/plain": [
       "\u001b[1m Total params: \u001b[0m\u001b[38;5;34m482\u001b[0m (1.88 KB)\n"
      ]
     },
     "metadata": {},
     "output_type": "display_data"
    },
    {
     "data": {
      "text/html": [
       "<pre style=\"white-space:pre;overflow-x:auto;line-height:normal;font-family:Menlo,'DejaVu Sans Mono',consolas,'Courier New',monospace\"><span style=\"font-weight: bold\"> Trainable params: </span><span style=\"color: #00af00; text-decoration-color: #00af00\">482</span> (1.88 KB)\n",
       "</pre>\n"
      ],
      "text/plain": [
       "\u001b[1m Trainable params: \u001b[0m\u001b[38;5;34m482\u001b[0m (1.88 KB)\n"
      ]
     },
     "metadata": {},
     "output_type": "display_data"
    },
    {
     "data": {
      "text/html": [
       "<pre style=\"white-space:pre;overflow-x:auto;line-height:normal;font-family:Menlo,'DejaVu Sans Mono',consolas,'Courier New',monospace\"><span style=\"font-weight: bold\"> Non-trainable params: </span><span style=\"color: #00af00; text-decoration-color: #00af00\">0</span> (0.00 B)\n",
       "</pre>\n"
      ],
      "text/plain": [
       "\u001b[1m Non-trainable params: \u001b[0m\u001b[38;5;34m0\u001b[0m (0.00 B)\n"
      ]
     },
     "metadata": {},
     "output_type": "display_data"
    }
   ],
   "source": [
    "model_small_r_20 = keras.Sequential(\n",
    "    [\n",
    "        keras.Input(shape=input_shape),\n",
    "        layers.Dense(20, activation=\"relu\"),\n",
    "        layers.Flatten(),\n",
    "        layers.Dropout(dropOut),\n",
    "        layers.Dense(num_classes, activation=\"softmax\"),\n",
    "    ]\n",
    ")\n",
    "\n",
    "model_small_r_20.summary()"
   ]
  },
  {
   "cell_type": "code",
   "execution_count": 59,
   "id": "a2dd16c9-58af-4568-9c46-d80acbe38920",
   "metadata": {},
   "outputs": [
    {
     "name": "stdout",
     "output_type": "stream",
     "text": [
      "Epoch 1/30\n",
      "\u001b[1m44/44\u001b[0m \u001b[32m━━━━━━━━━━━━━━━━━━━━\u001b[0m\u001b[37m\u001b[0m \u001b[1m0s\u001b[0m 4ms/step - accuracy: 0.5285 - loss: 0.4680 - val_accuracy: 0.5495 - val_loss: 0.4510\n",
      "Epoch 2/30\n",
      "\u001b[1m44/44\u001b[0m \u001b[32m━━━━━━━━━━━━━━━━━━━━\u001b[0m\u001b[37m\u001b[0m \u001b[1m0s\u001b[0m 4ms/step - accuracy: 0.5410 - loss: 0.4518 - val_accuracy: 0.5527 - val_loss: 0.4473\n",
      "Epoch 3/30\n",
      "\u001b[1m44/44\u001b[0m \u001b[32m━━━━━━━━━━━━━━━━━━━━\u001b[0m\u001b[37m\u001b[0m \u001b[1m0s\u001b[0m 3ms/step - accuracy: 0.5422 - loss: 0.4513 - val_accuracy: 0.5527 - val_loss: 0.4465\n",
      "Epoch 4/30\n",
      "\u001b[1m44/44\u001b[0m \u001b[32m━━━━━━━━━━━━━━━━━━━━\u001b[0m\u001b[37m\u001b[0m \u001b[1m0s\u001b[0m 3ms/step - accuracy: 0.5226 - loss: 0.4728 - val_accuracy: 0.5639 - val_loss: 0.4351\n",
      "Epoch 5/30\n",
      "\u001b[1m44/44\u001b[0m \u001b[32m━━━━━━━━━━━━━━━━━━━━\u001b[0m\u001b[37m\u001b[0m \u001b[1m0s\u001b[0m 3ms/step - accuracy: 0.5486 - loss: 0.4461 - val_accuracy: 0.5735 - val_loss: 0.4257\n",
      "Epoch 6/30\n",
      "\u001b[1m44/44\u001b[0m \u001b[32m━━━━━━━━━━━━━━━━━━━━\u001b[0m\u001b[37m\u001b[0m \u001b[1m0s\u001b[0m 3ms/step - accuracy: 0.5610 - loss: 0.4334 - val_accuracy: 0.5895 - val_loss: 0.4098\n",
      "Epoch 7/30\n",
      "\u001b[1m44/44\u001b[0m \u001b[32m━━━━━━━━━━━━━━━━━━━━\u001b[0m\u001b[37m\u001b[0m \u001b[1m0s\u001b[0m 3ms/step - accuracy: 0.5758 - loss: 0.4164 - val_accuracy: 0.5895 - val_loss: 0.4065\n",
      "Epoch 8/30\n",
      "\u001b[1m44/44\u001b[0m \u001b[32m━━━━━━━━━━━━━━━━━━━━\u001b[0m\u001b[37m\u001b[0m \u001b[1m0s\u001b[0m 3ms/step - accuracy: 0.5904 - loss: 0.4055 - val_accuracy: 0.5895 - val_loss: 0.4106\n",
      "Epoch 9/30\n",
      "\u001b[1m44/44\u001b[0m \u001b[32m━━━━━━━━━━━━━━━━━━━━\u001b[0m\u001b[37m\u001b[0m \u001b[1m0s\u001b[0m 3ms/step - accuracy: 0.6000 - loss: 0.3953 - val_accuracy: 0.5958 - val_loss: 0.4019\n",
      "Epoch 10/30\n",
      "\u001b[1m44/44\u001b[0m \u001b[32m━━━━━━━━━━━━━━━━━━━━\u001b[0m\u001b[37m\u001b[0m \u001b[1m0s\u001b[0m 4ms/step - accuracy: 0.5765 - loss: 0.4169 - val_accuracy: 0.6054 - val_loss: 0.3934\n",
      "Epoch 11/30\n",
      "\u001b[1m44/44\u001b[0m \u001b[32m━━━━━━━━━━━━━━━━━━━━\u001b[0m\u001b[37m\u001b[0m \u001b[1m0s\u001b[0m 4ms/step - accuracy: 0.5863 - loss: 0.4075 - val_accuracy: 0.6054 - val_loss: 0.3938\n",
      "Epoch 12/30\n",
      "\u001b[1m44/44\u001b[0m \u001b[32m━━━━━━━━━━━━━━━━━━━━\u001b[0m\u001b[37m\u001b[0m \u001b[1m0s\u001b[0m 4ms/step - accuracy: 0.5819 - loss: 0.4130 - val_accuracy: 0.6054 - val_loss: 0.3946\n",
      "Epoch 13/30\n",
      "\u001b[1m44/44\u001b[0m \u001b[32m━━━━━━━━━━━━━━━━━━━━\u001b[0m\u001b[37m\u001b[0m \u001b[1m0s\u001b[0m 3ms/step - accuracy: 0.6116 - loss: 0.3816 - val_accuracy: 0.6166 - val_loss: 0.3795\n",
      "Epoch 14/30\n",
      "\u001b[1m44/44\u001b[0m \u001b[32m━━━━━━━━━━━━━━━━━━━━\u001b[0m\u001b[37m\u001b[0m \u001b[1m0s\u001b[0m 4ms/step - accuracy: 0.6350 - loss: 0.3566 - val_accuracy: 0.6262 - val_loss: 0.3720\n",
      "Epoch 15/30\n",
      "\u001b[1m44/44\u001b[0m \u001b[32m━━━━━━━━━━━━━━━━━━━━\u001b[0m\u001b[37m\u001b[0m \u001b[1m0s\u001b[0m 3ms/step - accuracy: 0.6201 - loss: 0.3737 - val_accuracy: 0.6230 - val_loss: 0.3760\n",
      "Epoch 16/30\n",
      "\u001b[1m44/44\u001b[0m \u001b[32m━━━━━━━━━━━━━━━━━━━━\u001b[0m\u001b[37m\u001b[0m \u001b[1m0s\u001b[0m 3ms/step - accuracy: 0.6144 - loss: 0.3807 - val_accuracy: 0.6374 - val_loss: 0.3599\n",
      "Epoch 17/30\n",
      "\u001b[1m44/44\u001b[0m \u001b[32m━━━━━━━━━━━━━━━━━━━━\u001b[0m\u001b[37m\u001b[0m \u001b[1m0s\u001b[0m 3ms/step - accuracy: 0.6275 - loss: 0.3672 - val_accuracy: 0.6757 - val_loss: 0.3173\n",
      "Epoch 18/30\n",
      "\u001b[1m44/44\u001b[0m \u001b[32m━━━━━━━━━━━━━━━━━━━━\u001b[0m\u001b[37m\u001b[0m \u001b[1m0s\u001b[0m 3ms/step - accuracy: 0.6180 - loss: 0.3763 - val_accuracy: 0.6550 - val_loss: 0.3430\n",
      "Epoch 19/30\n",
      "\u001b[1m44/44\u001b[0m \u001b[32m━━━━━━━━━━━━━━━━━━━━\u001b[0m\u001b[37m\u001b[0m \u001b[1m0s\u001b[0m 3ms/step - accuracy: 0.6312 - loss: 0.3616 - val_accuracy: 0.7380 - val_loss: 0.2615\n",
      "Epoch 20/30\n",
      "\u001b[1m44/44\u001b[0m \u001b[32m━━━━━━━━━━━━━━━━━━━━\u001b[0m\u001b[37m\u001b[0m \u001b[1m0s\u001b[0m 4ms/step - accuracy: 0.6114 - loss: 0.3814 - val_accuracy: 0.6917 - val_loss: 0.3051\n",
      "Epoch 21/30\n",
      "\u001b[1m44/44\u001b[0m \u001b[32m━━━━━━━━━━━━━━━━━━━━\u001b[0m\u001b[37m\u001b[0m \u001b[1m0s\u001b[0m 4ms/step - accuracy: 0.6547 - loss: 0.3412 - val_accuracy: 0.6869 - val_loss: 0.3110\n",
      "Epoch 22/30\n",
      "\u001b[1m44/44\u001b[0m \u001b[32m━━━━━━━━━━━━━━━━━━━━\u001b[0m\u001b[37m\u001b[0m \u001b[1m0s\u001b[0m 5ms/step - accuracy: 0.6420 - loss: 0.3534 - val_accuracy: 0.7157 - val_loss: 0.2786\n",
      "Epoch 23/30\n",
      "\u001b[1m44/44\u001b[0m \u001b[32m━━━━━━━━━━━━━━━━━━━━\u001b[0m\u001b[37m\u001b[0m \u001b[1m0s\u001b[0m 4ms/step - accuracy: 0.6380 - loss: 0.3573 - val_accuracy: 0.6406 - val_loss: 0.3584\n",
      "Epoch 24/30\n",
      "\u001b[1m44/44\u001b[0m \u001b[32m━━━━━━━━━━━━━━━━━━━━\u001b[0m\u001b[37m\u001b[0m \u001b[1m0s\u001b[0m 3ms/step - accuracy: 0.6243 - loss: 0.3728 - val_accuracy: 0.7045 - val_loss: 0.2906\n",
      "Epoch 25/30\n",
      "\u001b[1m44/44\u001b[0m \u001b[32m━━━━━━━━━━━━━━━━━━━━\u001b[0m\u001b[37m\u001b[0m \u001b[1m0s\u001b[0m 3ms/step - accuracy: 0.6546 - loss: 0.3426 - val_accuracy: 0.8307 - val_loss: 0.1616\n",
      "Epoch 26/30\n",
      "\u001b[1m44/44\u001b[0m \u001b[32m━━━━━━━━━━━━━━━━━━━━\u001b[0m\u001b[37m\u001b[0m \u001b[1m0s\u001b[0m 4ms/step - accuracy: 0.6562 - loss: 0.3381 - val_accuracy: 0.8450 - val_loss: 0.1533\n",
      "Epoch 27/30\n",
      "\u001b[1m44/44\u001b[0m \u001b[32m━━━━━━━━━━━━━━━━━━━━\u001b[0m\u001b[37m\u001b[0m \u001b[1m0s\u001b[0m 4ms/step - accuracy: 0.6856 - loss: 0.3086 - val_accuracy: 0.8291 - val_loss: 0.1655\n",
      "Epoch 28/30\n",
      "\u001b[1m44/44\u001b[0m \u001b[32m━━━━━━━━━━━━━━━━━━━━\u001b[0m\u001b[37m\u001b[0m \u001b[1m0s\u001b[0m 4ms/step - accuracy: 0.7146 - loss: 0.2806 - val_accuracy: 0.7971 - val_loss: 0.1999\n",
      "Epoch 29/30\n",
      "\u001b[1m44/44\u001b[0m \u001b[32m━━━━━━━━━━━━━━━━━━━━\u001b[0m\u001b[37m\u001b[0m \u001b[1m0s\u001b[0m 3ms/step - accuracy: 0.7107 - loss: 0.2855 - val_accuracy: 0.6805 - val_loss: 0.3109\n",
      "Epoch 30/30\n",
      "\u001b[1m44/44\u001b[0m \u001b[32m━━━━━━━━━━━━━━━━━━━━\u001b[0m\u001b[37m\u001b[0m \u001b[1m0s\u001b[0m 4ms/step - accuracy: 0.6936 - loss: 0.3011 - val_accuracy: 0.7620 - val_loss: 0.2317\n"
     ]
    },
    {
     "data": {
      "text/plain": [
       "<keras.src.callbacks.history.History at 0x271ec2fe930>"
      ]
     },
     "execution_count": 59,
     "metadata": {},
     "output_type": "execute_result"
    }
   ],
   "source": [
    "model_small_r_20.compile(loss=\"mean_squared_error\", optimizer=\"adam\", \n",
    "              metrics=[\"accuracy\"])\n",
    "\n",
    "model_small_r_20.fit(numpy_small_x_train, numpy_small_y_train, batch_size=batch_size, \n",
    "          epochs=epochs, validation_split=0.1)"
   ]
  },
  {
   "cell_type": "code",
   "execution_count": 60,
   "id": "e524736d-89cc-4ba3-a1a9-315e4ee31267",
   "metadata": {},
   "outputs": [
    {
     "name": "stdout",
     "output_type": "stream",
     "text": [
      "\u001b[1m456/456\u001b[0m \u001b[32m━━━━━━━━━━━━━━━━━━━━\u001b[0m\u001b[37m\u001b[0m \u001b[1m1s\u001b[0m 1ms/step\n"
     ]
    }
   ],
   "source": [
    "predicted_r_small_20 = model_small_r_20.predict(numpy_small_x_test)"
   ]
  },
  {
   "cell_type": "code",
   "execution_count": 61,
   "id": "deb19929-c44c-4483-a842-3adc6b4d1e93",
   "metadata": {},
   "outputs": [
    {
     "name": "stdout",
     "output_type": "stream",
     "text": [
      "(14591,)\n",
      "(14591, 2)\n"
     ]
    }
   ],
   "source": [
    "print(small_y_resampled_test.shape)\n",
    "print(predicted_r_small_20.shape)"
   ]
  },
  {
   "cell_type": "code",
   "execution_count": 62,
   "id": "f527b69f-7391-45cf-800e-150996081caa",
   "metadata": {},
   "outputs": [
    {
     "name": "stdout",
     "output_type": "stream",
     "text": [
      "true negative:  4799\n",
      "false positive:  2512\n",
      "false negative:  856\n",
      "true positive:  6424\n",
      "Small resampled 20 layers:\n",
      "Accuracy:  0.7691727777397026\n",
      "True-positive rate:  0.7188898836168308\n",
      "True-negative rate:  0.8486295313881521\n",
      "F1 Score:  0.7923038973852985\n"
     ]
    }
   ],
   "source": [
    "acc_r_small_20, tpr_r_small_20, tnr_r_small_20, f1_r_small_20 = genResults(numpy_small_y_test, predicted_r_small_20)\n",
    "\n",
    "print(\"Small resampled 20 layers:\")\n",
    "print(\"Accuracy: \", acc_r_small_20)\n",
    "print(\"True-positive rate: \", tpr_r_small_20)\n",
    "print(\"True-negative rate: \", tnr_r_small_20)\n",
    "print(\"F1 Score: \", f1_r_small_20)"
   ]
  },
  {
   "cell_type": "code",
   "execution_count": null,
   "id": "348556cd-b17e-4236-8066-d962de00a539",
   "metadata": {},
   "outputs": [],
   "source": []
  }
 ],
 "metadata": {
  "kernelspec": {
   "display_name": "Python 3 (ipykernel)",
   "language": "python",
   "name": "python3"
  },
  "language_info": {
   "codemirror_mode": {
    "name": "ipython",
    "version": 3
   },
   "file_extension": ".py",
   "mimetype": "text/x-python",
   "name": "python",
   "nbconvert_exporter": "python",
   "pygments_lexer": "ipython3",
   "version": "3.12.7"
  }
 },
 "nbformat": 4,
 "nbformat_minor": 5
}
